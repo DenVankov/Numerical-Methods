{
 "cells": [
  {
   "cell_type": "code",
   "execution_count": 2,
   "metadata": {},
   "outputs": [
    {
     "name": "stdout",
     "output_type": "stream",
     "text": [
      "Collecting moviepy\n",
      "  Downloading moviepy-1.0.3.tar.gz (388 kB)\n",
      "\u001b[K     |████████████████████████████████| 388 kB 925 kB/s eta 0:00:01\n",
      "\u001b[?25hRequirement already satisfied: decorator<5.0,>=4.0.2 in /Users/devankov/anaconda3/lib/python3.8/site-packages (from moviepy) (4.4.2)\n",
      "Requirement already satisfied: tqdm<5.0,>=4.11.2 in /Users/devankov/anaconda3/lib/python3.8/site-packages (from moviepy) (4.50.2)\n",
      "Requirement already satisfied: requests<3.0,>=2.8.1 in /Users/devankov/anaconda3/lib/python3.8/site-packages (from moviepy) (2.24.0)\n",
      "Collecting proglog<=1.0.0\n",
      "  Downloading proglog-0.1.9.tar.gz (10 kB)\n",
      "Requirement already satisfied: numpy>=1.17.3 in /Users/devankov/anaconda3/lib/python3.8/site-packages (from moviepy) (1.19.2)\n",
      "Requirement already satisfied: imageio<3.0,>=2.5 in /Users/devankov/anaconda3/lib/python3.8/site-packages (from moviepy) (2.9.0)\n",
      "Collecting imageio_ffmpeg>=0.2.0\n",
      "  Downloading imageio_ffmpeg-0.4.2-py3-none-macosx_10_9_intel.macosx_10_9_x86_64.macosx_10_10_intel.macosx_10_10_x86_64.whl (22.5 MB)\n",
      "\u001b[K     |████████████████████████████████| 22.5 MB 1.1 MB/s eta 0:00:01\n",
      "\u001b[?25hRequirement already satisfied: idna<3,>=2.5 in /Users/devankov/anaconda3/lib/python3.8/site-packages (from requests<3.0,>=2.8.1->moviepy) (2.10)\n",
      "Requirement already satisfied: certifi>=2017.4.17 in /Users/devankov/anaconda3/lib/python3.8/site-packages (from requests<3.0,>=2.8.1->moviepy) (2020.6.20)\n",
      "Requirement already satisfied: urllib3!=1.25.0,!=1.25.1,<1.26,>=1.21.1 in /Users/devankov/anaconda3/lib/python3.8/site-packages (from requests<3.0,>=2.8.1->moviepy) (1.25.11)\n",
      "Requirement already satisfied: chardet<4,>=3.0.2 in /Users/devankov/anaconda3/lib/python3.8/site-packages (from requests<3.0,>=2.8.1->moviepy) (3.0.4)\n",
      "Requirement already satisfied: pillow in /Users/devankov/anaconda3/lib/python3.8/site-packages (from imageio<3.0,>=2.5->moviepy) (8.0.1)\n",
      "Building wheels for collected packages: moviepy, proglog\n",
      "  Building wheel for moviepy (setup.py) ... \u001b[?25ldone\n",
      "\u001b[?25h  Created wheel for moviepy: filename=moviepy-1.0.3-py3-none-any.whl size=110724 sha256=0d0b98371484a318af2b8cdea133023609bfb45a79b9aedb4f56da092c7af2c6\n",
      "  Stored in directory: /Users/devankov/Library/Caches/pip/wheels/e4/a4/db/0368d3a04033da662e13926594b3a8cf1aa4ffeefe570cfac1\n",
      "  Building wheel for proglog (setup.py) ... \u001b[?25ldone\n",
      "\u001b[?25h  Created wheel for proglog: filename=proglog-0.1.9-py3-none-any.whl size=6147 sha256=86ce67644b356fee68e56bb8857b0ec8827df1e3f8defe3855685847b69f9d54\n",
      "  Stored in directory: /Users/devankov/Library/Caches/pip/wheels/22/82/ff/56950e4b223a69eda3a2bdeaef2ae4b274c3d1ced9b5814c99\n",
      "Successfully built moviepy proglog\n",
      "Installing collected packages: proglog, imageio-ffmpeg, moviepy\n",
      "Successfully installed imageio-ffmpeg-0.4.2 moviepy-1.0.3 proglog-0.1.9\n"
     ]
    }
   ],
   "source": [
    "!pip install moviepy"
   ]
  },
  {
   "cell_type": "code",
   "execution_count": 20,
   "metadata": {},
   "outputs": [
    {
     "name": "stdout",
     "output_type": "stream",
     "text": [
      "Collecting plotly\n",
      "  Downloading plotly-4.14.1-py2.py3-none-any.whl (13.2 MB)\n",
      "\u001b[K     |████████████████████████████████| 13.2 MB 1.6 MB/s eta 0:00:01\n",
      "\u001b[?25hCollecting retrying>=1.3.3\n",
      "  Downloading retrying-1.3.3.tar.gz (10 kB)\n",
      "Requirement already satisfied: six in /Users/devankov/anaconda3/lib/python3.8/site-packages (from plotly) (1.15.0)\n",
      "Building wheels for collected packages: retrying\n",
      "  Building wheel for retrying (setup.py) ... \u001b[?25ldone\n",
      "\u001b[?25h  Created wheel for retrying: filename=retrying-1.3.3-py3-none-any.whl size=11429 sha256=172bfaa44c36aecefdea8a15c749ca30088ccaf77c89119d4cf53867313d1589\n",
      "  Stored in directory: /Users/devankov/Library/Caches/pip/wheels/c4/a7/48/0a434133f6d56e878ca511c0e6c38326907c0792f67b476e56\n",
      "Successfully built retrying\n",
      "Installing collected packages: retrying, plotly\n",
      "Successfully installed plotly-4.14.1 retrying-1.3.3\n"
     ]
    }
   ],
   "source": [
    "!pip install Scatter"
   ]
  },
  {
   "cell_type": "markdown",
   "metadata": {},
   "source": [
    "#### Вариант №7"
   ]
  },
  {
   "cell_type": "code",
   "execution_count": 22,
   "metadata": {},
   "outputs": [],
   "source": [
    "import ipywidgets as widgets\n",
    "from ipywidgets import interact\n",
    "from IPython.display import display\n",
    "from ipywidgets import interact, interactive, fixed, interact_manual\n",
    "from tqdm import tqdm\n",
    "import random\n",
    "import matplotlib.pyplot as plt\n",
    "import math\n",
    "import sys\n",
    "import warnings\n",
    "import numpy as np\n",
    "import glob\n",
    "import moviepy.editor as mpy\n",
    "from functools import reduce\n",
    "from mpl_toolkits.mplot3d import Axes3D\n",
    "import plotly.offline as offline\n",
    "from plotly.graph_objs import *"
   ]
  },
  {
   "cell_type": "markdown",
   "metadata": {},
   "source": [
    "***Уравнение:***\n",
    "\n",
    "Вариант 7:\n",
    "$$\n",
    "\\begin{align}\n",
    "\\frac {\\partial{u}} {\\partial{t}} = \\frac {\\partial^2{u}} {\\partial{x^2}} + \\frac {\\partial^2{u}} {\\partial{y^2}} -x \\cdot y \\cdot sin(t), \\\\\n",
    "u(0, y, t) = 0 \\\\\n",
    "u(1, y, t) = y \\cdot cos(t) \\\\\n",
    "u(x, 0, t) = 0 \\\\\n",
    "u(x, 1, t) = x \\cdot cos(t) \\\\\n",
    "u(x, y, 0) = x \\cdot y\n",
    "\\end{align}\n",
    "$$\n",
    "\n",
    "***Аналитическое решение:***\n",
    "$$u(x, y, t) = xy \\cos{t}$$"
   ]
  },
  {
   "cell_type": "code",
   "execution_count": 4,
   "metadata": {},
   "outputs": [],
   "source": [
    "def psi_0(x, t):\n",
    "    return 0.0\n",
    "\n",
    "def psi_1(x, t):\n",
    "    return x * math.cos(t)\n",
    "\n",
    "def phi_0(y, t):\n",
    "    return 0.0\n",
    "\n",
    "def phi_1(y, t):\n",
    "    return y * math.cos(t)\n",
    "\n",
    "def u0(x, y):\n",
    "    return x*y\n",
    "\n",
    "# analytic solve\n",
    "def u(x, y, t):\n",
    "    return x*y * math.cos(t)"
   ]
  },
  {
   "cell_type": "markdown",
   "metadata": {},
   "source": [
    "##  Схемы"
   ]
  },
  {
   "cell_type": "code",
   "execution_count": 5,
   "metadata": {},
   "outputs": [],
   "source": [
    "class Schema:\n",
    "    def __init__(self, rho = u0, psi0 = psi_0, psi1 = psi_1, phi0 = phi_0, phi1 = phi_1,\n",
    "                 lx0 = 0, lx1 = 1.0, ly0 = 0, ly1 = 1.0, T = 3, order2nd = True):\n",
    "        self.psi0 = psi0\n",
    "        self.psi1 = psi1\n",
    "        self.phi0 = phi0\n",
    "        self.phi1 = phi1\n",
    "        self.rho0 = rho\n",
    "        self.T = T\n",
    "        self.lx0 = lx0\n",
    "        self.lx1 = lx1\n",
    "        self.ly0 = ly0\n",
    "        self.ly1 = ly1\n",
    "        self.tau = None\n",
    "        self.hx = None\n",
    "        self.hy = None\n",
    "        self.order = order2nd\n",
    "        self.Nx = None\n",
    "        self.Ny = None\n",
    "        self.K = None\n",
    "        self.cx = None\n",
    "        self.bx = None\n",
    "        self.cy = None\n",
    "        self.by = None\n",
    "        self.hx2 = None\n",
    "        self.hy2 = None\n",
    "        \n",
    "        \n",
    "    def set_l0_l1(self, lx0, lx1, ly0, ly1):\n",
    "        self.lx0 = lx0\n",
    "        self.lx1 = lx1\n",
    "        self.ly0 = ly0\n",
    "        self.ly1 = ly1\n",
    "        \n",
    "    def set_T(self, T):\n",
    "        self.T = T\n",
    "        \n",
    "    def CalculateH(self):\n",
    "        self.hx = (self.lx1 - self.lx0) / (self.Nx - 1)\n",
    "        self.hy = (self.ly1 - self.ly0) / (self.Ny - 1)\n",
    "        self.hx2 = self.hx * self.hx\n",
    "        self.hy2 = self.hy * self.hy\n",
    "        \n",
    "    def CalculateTau(self):\n",
    "        self.tau = self.T / (self.K - 1)\n",
    "        \n",
    "    @staticmethod\n",
    "    def race_method(A, b):\n",
    "        P = [-item[2] for item in A]\n",
    "        Q = [item for item in b]\n",
    "        P[0] /= A[0][1]\n",
    "        Q[0] /= A[0][1]\n",
    "        for i in range(1, len(b)):\n",
    "            z = (A[i][1] + A[i][0] * P[i-1])\n",
    "            P[i] /= z\n",
    "            Q[i] -= A[i][0] * Q[i-1]\n",
    "            Q[i] /= z\n",
    "        for i in range(len(Q) - 2, -1, -1):\n",
    "            Q[i] += P[i] * Q[i + 1]\n",
    "        return Q    \n",
    "      \n",
    "    @staticmethod\n",
    "    def nparange(start, end, step = 1):\n",
    "        now = start\n",
    "        e = 0.00000000001\n",
    "        while now - e <= end:\n",
    "            yield now\n",
    "            now += step\n",
    "            \n",
    "    def CalculateLeftEdge(self, X, Y, t, square):\n",
    "        for i in range(self.Ny):\n",
    "            square[i][0] = self.phi0(Y[i][0], t)\n",
    "            \n",
    "    def CalculateRightEdge(self, X, Y, t, square):\n",
    "        for i in range(self.Ny):\n",
    "            square[i][-1] = self.phi1(Y[i][-1], t)\n",
    "            \n",
    "    def CalculateBottomEdge(self, X, Y, t, square):\n",
    "        for j in range(1, self.Nx - 1):\n",
    "            square[0][j] = self.psi0(X[0][j], t)\n",
    "            \n",
    "    def CalculateTopEdge(self, X, Y, t, square):\n",
    "        for j in range(1, self.Nx - 1):\n",
    "            square[-1][j] = self.psi1(X[-1][j], t)\n",
    "            \n",
    "            \n",
    "    def CalculateLineFirstStep(self, i, X, Y, t, last_square, now_square):\n",
    "        hy2 = self.hy2\n",
    "        hx2 = self.hx2\n",
    "        b = self.bx\n",
    "        c = self.cx\n",
    "        A = [(0, b, c)]\n",
    "        w = [\n",
    "            -self.cy*self.order*last_square[i-1][1] -\n",
    "            ((self.order + 1)*hx2*hy2 - 2*self.cy*self.order)*last_square[i][1] -\n",
    "            self.cy*self.order*last_square[i+1][1] +\n",
    "            self.tau*hy2*hx2*X[i][1]*Y[i][1]*math.sin(t) - \n",
    "            c*now_square[i][0]\n",
    "        ]\n",
    "        A.extend([(c, b, c) for _ in range(2, self.Nx - 2)])\n",
    "        w.extend([\n",
    "            -self.cy*self.order*last_square[i-1][j] -\n",
    "            ((self.order + 1)*hx2*hy2 - 2*self.cy*self.order)*last_square[i][j] -\n",
    "            self.cy*self.order*last_square[i+1][j] + \n",
    "            self.tau*hy2*hx2*X[i][j]*Y[i][j]*math.sin(t)\n",
    "            for j in range(2, self.Nx - 2)\n",
    "        ])\n",
    "        A.append((c, b, 0))\n",
    "        w.append(\n",
    "            -self.cy*self.order*last_square[i-1][-2] -\n",
    "            ((self.order + 1)*hx2*hy2 - 2*self.cy*self.order)*last_square[i][-2] -\n",
    "            self.cy*self.order*last_square[i+1][-2] +\n",
    "            self.tau*hy2*hx2*X[i][-2]*Y[i][-2]*math.sin(t) - \n",
    "            c*now_square[i][-1]\n",
    "        )\n",
    "        line = self.race_method(A, w)\n",
    "        for j in range(1, self.Nx - 1):\n",
    "            now_square[i][j] = line[j - 1]\n",
    "            \n",
    "    def CalculateLineSecondStep(self, j, X, Y, t, last_square, now_square):\n",
    "        hx2 = self.hx2\n",
    "        hy2 = self.hy2\n",
    "        c = self.cy\n",
    "        b = self.by\n",
    "        A = [(0, b, c)]\n",
    "        w = [\n",
    "            -self.cx*self.order*last_square[1][j - 1] -\n",
    "            ((self.order + 1)*hx2*hy2 - 2*self.cx*self.order)*last_square[1][j] -\n",
    "            self.cx*self.order*last_square[1][j + 1] +\n",
    "            self.tau*hy2*hx2*X[1][j]*Y[1][j]*math.sin(t) - \n",
    "            c*now_square[0][j]\n",
    "        ]\n",
    "        A.extend([(c, b, c) for _ in range(2, self.Ny - 2)])\n",
    "        w.extend([\n",
    "            -self.cx*self.order*last_square[i][j - 1] -\n",
    "            ((self.order + 1)*hx2*hy2 - 2*self.cx*self.order)*last_square[i][j] -\n",
    "            self.cx*self.order*last_square[i][j + 1] + \n",
    "            self.tau*hy2*hx2*X[i][j]*Y[i][j]*math.sin(t)\n",
    "            for i in range(2, self.Ny - 2)\n",
    "        ])\n",
    "        A.append((c, b, 0))\n",
    "        w.append(\n",
    "            -self.cx*self.order*last_square[-2][j - 1] -\n",
    "            ((self.order + 1)*hx2*hy2 - 2*self.cx*self.order)*last_square[-2][j] -\n",
    "            self.cx*self.order*last_square[-2][j + 1] +\n",
    "            self.tau*hy2*hx2*X[-2][j]*Y[-2][j]*math.sin(t) - \n",
    "            c*now_square[-1][j]\n",
    "        )\n",
    "        line = self.race_method(A, w)\n",
    "        for i in range(1, self.Ny - 1):\n",
    "            now_square[i][j] = line[i - 1]\n",
    "    \n",
    "        \n",
    "    def CalculateSquare(self, X, Y, t, last_square):\n",
    "        square = [[0.0 for _ in range(self.Nx)] for _ in range(self.Ny)]\n",
    "        self.CalculateLeftEdge(X, Y, t - 0.5*self.tau, square)\n",
    "        self.CalculateRightEdge(X, Y, t - 0.5*self.tau, square)\n",
    "        self.CalculateBottomEdge(X, Y, t - 0.5*self.tau, square)\n",
    "        self.CalculateTopEdge(X, Y, t - 0.5*self.tau, square)\n",
    "        for i in range(1, self.Ny - 1):\n",
    "            self.CalculateLineFirstStep(i, X, Y, t - 0.5*self.tau, last_square, square)\n",
    "        last_square = square\n",
    "        square = [[0.0 for _ in range(self.Nx)] for _ in range(self.Ny)]\n",
    "        self.CalculateLeftEdge(X, Y, t, square)\n",
    "        self.CalculateRightEdge(X, Y, t, square)\n",
    "        self.CalculateBottomEdge(X, Y, t, square)\n",
    "        self.CalculateTopEdge(X, Y, t, square)\n",
    "        for j in range(1, self.Nx - 1):\n",
    "            self.CalculateLineSecondStep(j, X, Y, t, last_square, square)\n",
    "        return square\n",
    "        \n",
    "    \n",
    "    def init_t0(self, X, Y):\n",
    "        first = [[0.0 for _ in range(self.Nx)] for _ in range(self.Ny)]\n",
    "        for i in range(self.Ny):\n",
    "            for j in range(self.Nx):\n",
    "                first[i][j] = self.rho0(X[i][j], Y[i][j])\n",
    "        return first\n",
    "        \n",
    "        \n",
    "    \n",
    "    def __call__(self, Nx=20, Ny=20, K=20):\n",
    "        self.Nx, self.Ny, self.K = Nx, Ny, K \n",
    "        self.CalculateTau()\n",
    "        self.CalculateH()\n",
    "        \n",
    "        self.bx = -2*self.tau*self.hy2\n",
    "        self.bx -= (1 + self.order)*self.hx2*self.hy2\n",
    "        self.cx = self.tau * self.hy2\n",
    "        \n",
    "        self.cy = self.tau * self.hx2\n",
    "        self.by = -2*self.tau*self.hx2\n",
    "        self.by -= (1 + self.order)*self.hx2*self.hy2\n",
    "        x = list(self.nparange(self.lx0, self.lx1, self.hx))\n",
    "        y = list(self.nparange(self.ly0, self.ly1, self.hy))\n",
    "        X = [x for _ in range(self.Ny)]\n",
    "        Y = [[y[i] for _ in x] for i in range(self.Ny)]\n",
    "        \n",
    "        taus = [0.0]\n",
    "        ans = [self.init_t0(X, Y)]\n",
    "        for t in self.nparange(self.tau, self.T, self.tau):\n",
    "            ans.append(self.CalculateSquare(X, Y, t, ans[-1]))\n",
    "            taus.append(t)\n",
    "        return X, Y, taus, ans"
   ]
  },
  {
   "cell_type": "markdown",
   "metadata": {},
   "source": [
    "## Результаты"
   ]
  },
  {
   "cell_type": "markdown",
   "metadata": {},
   "source": [
    "#### Зависимость значений метода от параметров"
   ]
  },
  {
   "cell_type": "markdown",
   "metadata": {},
   "source": [
    "Реальное значение функции на плоскости в определённый момент времени:"
   ]
  },
  {
   "cell_type": "code",
   "execution_count": 6,
   "metadata": {},
   "outputs": [],
   "source": [
    "def RealZByTime(lx0, lx1, ly0, ly1, t, f):\n",
    "    x = np.arange(lx0, lx1 + 0.002, 0.002)\n",
    "    y = np.arange(ly0, ly1 + 0.002, 0.002)\n",
    "    X = np.ones((y.shape[0], x.shape[0]))\n",
    "    Y = np.ones((x.shape[0], y.shape[0]))\n",
    "    Z = np.ones((y.shape[0], x.shape[0]))\n",
    "    for i in range(Y.shape[0]):\n",
    "        Y[i] = y\n",
    "    Y = Y.T\n",
    "    for i in range(X.shape[0]):\n",
    "        X[i] = x\n",
    "    for i in range(Z.shape[0]):\n",
    "        for j in range(Z.shape[1]):\n",
    "            Z[i, j] = f(X[i, j], Y[i, j], t)\n",
    "    return X, Y, Z"
   ]
  },
  {
   "cell_type": "markdown",
   "metadata": {},
   "source": [
    "#### Вычисление погрешностей"
   ]
  },
  {
   "cell_type": "markdown",
   "metadata": {},
   "source": [
    "<!-- Значение погрешности в определённый момент времени вычислим как:\n",
    "\n",
    "$RMSE = \\sqrt{\\displaystyle\\frac{\\sum\\limits^{N_x}_{i = 0} \\sum\\limits^{N_y}_{j = 0} (u_{i, j} - \\hat{u_{i, j}})^2}{N_x N_y}}$ по площади.\n",
    "\n",
    "def ErrorRMSE(X, Y, t, z, ut = u):\n",
    "    ans = 0.0\n",
    "    for i in range(len(z)):\n",
    "        for j in  range(len(z[i])):\n",
    "            ans += (ut(X[i][j], Y[i][j], t) - z[i][j])**2\n",
    "    return (ans / len(z) / len(z[0]))**0.5\n",
    "    \n",
    "Значение погрешности в определённый момент времени вычислим как:\n",
    "\n",
    "$MSE = {\\displaystyle\\frac{\\sum\\limits^{N_x}_{i = 0} \\sum\\limits^{N_y}_{j = 0} (u_{i, j} - \\hat{u_{i, j}})^2}{N_x N_y}}$ по площади.\n",
    "\n",
    "def ErrorMSE(X, Y, t, z, ut = u):\n",
    "    ans = 0.0\n",
    "    for i in range(len(z)):\n",
    "        for j in  range(len(z[i])):\n",
    "            ans += (ut(X[i][j], Y[i][j], t) - z[i][j])**2\n",
    "    return (ans / len(z) / len(z[0])) -->"
   ]
  },
  {
   "cell_type": "markdown",
   "metadata": {},
   "source": [
    "Значение погрешности в определённый момент времени вычислим как:\n",
    "\n",
    "${\\displaystyle\\frac{\\sum\\limits^{N_x}_{i = 0} \\sum\\limits^{N_y}_{j = 0} max|(u_{i, j} - \\hat{u_{i, j}})|}{N_x N_y}}$ по площади."
   ]
  },
  {
   "cell_type": "code",
   "execution_count": 7,
   "metadata": {},
   "outputs": [],
   "source": [
    "def Error(X, Y, t, z, ut = u):\n",
    "    ans = 0.0\n",
    "    for i in range(len(z)):\n",
    "        for j in  range(len(z[i])):\n",
    "            ans = max(abs(ut(X[i][j], Y[i][j], t) - z[i][j]), ans)\n",
    "    return (ans / len(z) / len(z[0]))"
   ]
  },
  {
   "cell_type": "markdown",
   "metadata": {},
   "source": [
    "Визуализируем полученные значения и искомую зависимость с помощи данных функций:"
   ]
  },
  {
   "cell_type": "code",
   "execution_count": 8,
   "metadata": {},
   "outputs": [],
   "source": [
    "def StepSlice(lst, step):\n",
    "    return lst[step]\n",
    "\n",
    "def AnimateList(lst, play=False, interval=200):\n",
    "    slider = widgets.IntSlider(min=0, max=len(lst) - 1, step=1, value=0)\n",
    "    if play:\n",
    "        play_widjet = widgets.Play(interval=interval)\n",
    "        widgets.jslink((play_widjet, 'value'), (slider, 'value'))\n",
    "        display(play_widjet)\n",
    "    return interact(StepSlice,\n",
    "                    lst=fixed(lst),\n",
    "                    step=slider)"
   ]
  },
  {
   "cell_type": "code",
   "execution_count": 9,
   "metadata": {},
   "outputs": [],
   "source": [
    "def PlotByTime(X, Y, T, Z, j, extrems, plot_true = True):\n",
    "    t = T[j]\n",
    "    z = Z[j]\n",
    "    fig = plt.figure(num=1, figsize=(20, 13), clear=True)\n",
    "    ax = fig.add_subplot(1, 1, 1, projection='3d')\n",
    "    ax.plot_surface(np.array(X), np.array(Y), np.array(z))\n",
    "    if plot_true:\n",
    "        ax.plot_wireframe(*RealZByTime(0, 1, 0, 1, t, u), color=\"green\")\n",
    "    ax.set_xlabel('x')\n",
    "    ax.set_ylabel('y')\n",
    "    ax.set_zlabel('z') \n",
    "    ax.set_title(\n",
    "        't = ' + str(round(t, 8)) + \" error = \" + str(round(Error(X, Y, t, z), 11)), \n",
    "        loc = \"right\", fontsize=25\n",
    "    )\n",
    "    ax.set_zlim(extrems[0], extrems[1])\n",
    "    fig.tight_layout()\n",
    "    plt.close(fig)\n",
    "    return fig\n",
    "\n",
    "def SquareMinMax(z):\n",
    "    minimum, maximum = z[0][0], z[0][0]\n",
    "    for i in range(len(z)):\n",
    "        for j in range(len(z[i])):\n",
    "            minimum = z[i][j] if z[i][j] < minimum else minimum\n",
    "            maximum = z[i][j] if z[i][j] > maximum else maximum\n",
    "    return minimum, maximum\n",
    "\n",
    "def SearchMinMax(zz):\n",
    "    minimum, maximum = 0.0, 0.0\n",
    "    for z in zz:\n",
    "        minmax = SquareMinMax(z)\n",
    "        minimum = minmax[0] if minmax[0] < minimum else minimum\n",
    "        maximum = minmax[1] if minmax[1] > maximum else maximum\n",
    "    return minimum, maximum\n",
    "        \n",
    "\n",
    "def PlotAnimate(nx = 15, ny = 15, k=50, t=5, plot_true = False):\n",
    "    schema = Schema(T = t, order2nd = True)\n",
    "    xx, yy, tt, zz = schema(Nx = nx, Ny = ny, K = k)\n",
    "    extrems = SearchMinMax(zz)\n",
    "    plots = []\n",
    "    for j in range(len(tt)):\n",
    "        plots.append(PlotByTime(xx, yy, tt, zz, j, extrems, plot_true))\n",
    "    AnimateList(plots, play=True, interval=2000)"
   ]
  },
  {
   "cell_type": "markdown",
   "metadata": {},
   "source": [
    "В зависимости от параметров полученное приближение будет иметь следующий вид:"
   ]
  },
  {
   "cell_type": "code",
   "execution_count": 37,
   "metadata": {},
   "outputs": [
    {
     "data": {
      "application/vnd.jupyter.widget-view+json": {
       "model_id": "d7a753d8dcc24b10aaa8517f5e8ee874",
       "version_major": 2,
       "version_minor": 0
      },
      "text/plain": [
       "interactive(children=(IntSlider(value=15, description='nx', max=45, min=-15), IntSlider(value=15, description=…"
      ]
     },
     "metadata": {},
     "output_type": "display_data"
    }
   ],
   "source": [
    "interact(\n",
    "    PlotAnimate,\n",
    "    nx=(5, 200, 2), \n",
    "    ny=(5, 200, 2),\n",
    "    k=(20, 200, 5), \n",
    "    t = (1, 10, 1), \n",
    "    plot_true = [False, True]\n",
    ")\n",
    "None"
   ]
  },
  {
   "cell_type": "markdown",
   "metadata": {},
   "source": [
    "#### Зависимость погрешности расчетов от параметров "
   ]
  },
  {
   "cell_type": "code",
   "execution_count": 11,
   "metadata": {},
   "outputs": [],
   "source": [
    "first = Schema(T = 2*math.pi, order2nd = False) #метод дробных шагов\n",
    "second = Schema(T = 2*math.pi, order2nd = True) #метод переменных направлений"
   ]
  },
  {
   "cell_type": "markdown",
   "metadata": {},
   "source": [
    "#### Построение зависимости погрешности от шага $h_x, \\; h_y$."
   ]
  },
  {
   "cell_type": "markdown",
   "metadata": {},
   "source": [
    "Сетки значений погрешности и соответствующих длин шагов получим с помощью функции:"
   ]
  },
  {
   "cell_type": "code",
   "execution_count": 12,
   "metadata": {},
   "outputs": [],
   "source": [
    "def GetGraphicH(solver, time = 0, tsteps = 40):\n",
    "    h, e = [], []\n",
    "    for N in range(4, 20, 1):\n",
    "        x, y, t, z = solver(Nx = N, Ny = N, K = tsteps)\n",
    "        h.append(solver.hx)\n",
    "        e.append(Error(x, y, t[time], z[time]))\n",
    "    return h, e"
   ]
  },
  {
   "cell_type": "code",
   "execution_count": 13,
   "metadata": {},
   "outputs": [],
   "source": [
    "TSTEPS = 100\n",
    "time = random.randint(0, TSTEPS - 1)\n",
    "h1, e1 = GetGraphicH(first, time, TSTEPS)\n",
    "h2, e2 = GetGraphicH(second, time, TSTEPS)"
   ]
  },
  {
   "cell_type": "markdown",
   "metadata": {},
   "source": [
    "Зависимость погрешности от длины шагов по координате при фиксированном шаге по времени в методе дробных шагов и переменных направлений:"
   ]
  },
  {
   "cell_type": "code",
   "execution_count": 31,
   "metadata": {},
   "outputs": [
    {
     "data": {
      "application/vnd.plotly.v1+json": {
       "config": {
        "linkText": "Export to plot.ly",
        "plotlyServerURL": "https://plot.ly",
        "showLink": false
       },
       "data": [
        {
         "line": {
          "width": 3
         },
         "mode": "lines",
         "name": "Метод дробных шагов",
         "showlegend": true,
         "text": "(x, y)",
         "type": "scatter",
         "x": [
          0.3333333333333333,
          0.25,
          0.2,
          0.16666666666666666,
          0.14285714285714285,
          0.125,
          0.1111111111111111,
          0.1,
          0.09090909090909091,
          0.08333333333333333,
          0.07692307692307693,
          0.07142857142857142,
          0.06666666666666667,
          0.0625,
          0.058823529411764705,
          0.05555555555555555
         ],
         "y": [
          2.2848718773312847e-05,
          1.9010733327342043e-05,
          1.6035754192627592e-05,
          1.3666689351594097e-05,
          1.173891165960561e-05,
          1.015178869522182e-05,
          8.851232256099629e-06,
          7.743465341882859e-06,
          6.7897008719841615e-06,
          5.960824772582862e-06,
          5.234565114158318e-06,
          4.593599335378506e-06,
          4.024256113068781e-06,
          3.5156049161411126e-06,
          3.5229587275154016e-06,
          3.7802182906832014e-06,
          4.016096753332865e-06,
          4.233214834181154e-06,
          4.433777945034856e-06,
          4.619655587785321e-06,
          4.79244318937977e-06,
          4.954787117092962e-06,
          5.132765704119468e-06,
          5.2991335888169515e-06,
          5.455002069773007e-06,
          5.601344414413179e-06,
          5.739016681980402e-06,
          5.868774884739137e-06,
          5.991289217432971e-06,
          6.107155923305574e-06,
          6.216907242458935e-06,
          6.321019794765515e-06,
          6.4199216774851744e-06,
          6.513998501911923e-06,
          6.603598549622669e-06,
          6.689037194596015e-06,
          6.770600710641061e-06,
          6.848549561193629e-06,
          6.923121252324083e-06,
          6.994532814693643e-06,
          7.062982970088006e-06,
          7.128654027908632e-06,
          7.191713550500634e-06
         ]
        },
        {
         "line": {
          "width": 3.7
         },
         "mode": "lines",
         "name": "Метод переменных направлений",
         "showlegend": true,
         "text": "(x, y)",
         "type": "scatter",
         "x": [
          0.3333333333333333,
          0.25,
          0.2,
          0.16666666666666666,
          0.14285714285714285,
          0.125,
          0.1111111111111111,
          0.1,
          0.09090909090909091,
          0.08333333333333333,
          0.07692307692307693,
          0.07142857142857142,
          0.06666666666666667,
          0.0625,
          0.058823529411764705,
          0.05555555555555555
         ],
         "y": [
          2.3074501202177688e-05,
          2.0230050552554335e-05,
          1.8009924390450795e-05,
          1.6225701830436257e-05,
          1.4760151003516685e-05,
          1.3535375582096609e-05,
          1.2497060639860559e-05,
          1.1605989500634294e-05,
          1.0833115073312083e-05,
          1.015648853795459e-05,
          9.559241032619514e-06,
          9.028210006735149e-06,
          8.552982261162967e-06,
          8.125215289610521e-06,
          7.738148385378896e-06,
          7.386245226335131e-06,
          7.064928885490707e-06,
          6.770382727405155e-06,
          6.499398912110933e-06,
          6.249261751969381e-06,
          6.01765690814049e-06,
          5.802599977037248e-06,
          5.602379794851231e-06,
          5.415513034726094e-06,
          5.2407075556171195e-06,
          5.076832596440095e-06,
          4.922894370177344e-06,
          4.778015951482084e-06,
          4.6414206028772e-06,
          4.5124178736172246e-06,
          4.3903919486210085e-06,
          4.274791834074643e-06,
          4.165123051081965e-06,
          4.060940573932803e-06,
          3.961842800789261e-06,
          3.8674663851573365e-06,
          3.7774817881025548e-06,
          3.6915894366351677e-06,
          3.60951639411744e-06,
          3.5310134648702805e-06,
          3.4558526682537673e-06,
          3.383825028474563e-06,
          3.3147386349940965e-06
         ]
        }
       ],
       "layout": {
        "template": {
         "data": {
          "bar": [
           {
            "error_x": {
             "color": "#2a3f5f"
            },
            "error_y": {
             "color": "#2a3f5f"
            },
            "marker": {
             "line": {
              "color": "#E5ECF6",
              "width": 0.5
             }
            },
            "type": "bar"
           }
          ],
          "barpolar": [
           {
            "marker": {
             "line": {
              "color": "#E5ECF6",
              "width": 0.5
             }
            },
            "type": "barpolar"
           }
          ],
          "carpet": [
           {
            "aaxis": {
             "endlinecolor": "#2a3f5f",
             "gridcolor": "white",
             "linecolor": "white",
             "minorgridcolor": "white",
             "startlinecolor": "#2a3f5f"
            },
            "baxis": {
             "endlinecolor": "#2a3f5f",
             "gridcolor": "white",
             "linecolor": "white",
             "minorgridcolor": "white",
             "startlinecolor": "#2a3f5f"
            },
            "type": "carpet"
           }
          ],
          "choropleth": [
           {
            "colorbar": {
             "outlinewidth": 0,
             "ticks": ""
            },
            "type": "choropleth"
           }
          ],
          "contour": [
           {
            "colorbar": {
             "outlinewidth": 0,
             "ticks": ""
            },
            "colorscale": [
             [
              0,
              "#0d0887"
             ],
             [
              0.1111111111111111,
              "#46039f"
             ],
             [
              0.2222222222222222,
              "#7201a8"
             ],
             [
              0.3333333333333333,
              "#9c179e"
             ],
             [
              0.4444444444444444,
              "#bd3786"
             ],
             [
              0.5555555555555556,
              "#d8576b"
             ],
             [
              0.6666666666666666,
              "#ed7953"
             ],
             [
              0.7777777777777778,
              "#fb9f3a"
             ],
             [
              0.8888888888888888,
              "#fdca26"
             ],
             [
              1,
              "#f0f921"
             ]
            ],
            "type": "contour"
           }
          ],
          "contourcarpet": [
           {
            "colorbar": {
             "outlinewidth": 0,
             "ticks": ""
            },
            "type": "contourcarpet"
           }
          ],
          "heatmap": [
           {
            "colorbar": {
             "outlinewidth": 0,
             "ticks": ""
            },
            "colorscale": [
             [
              0,
              "#0d0887"
             ],
             [
              0.1111111111111111,
              "#46039f"
             ],
             [
              0.2222222222222222,
              "#7201a8"
             ],
             [
              0.3333333333333333,
              "#9c179e"
             ],
             [
              0.4444444444444444,
              "#bd3786"
             ],
             [
              0.5555555555555556,
              "#d8576b"
             ],
             [
              0.6666666666666666,
              "#ed7953"
             ],
             [
              0.7777777777777778,
              "#fb9f3a"
             ],
             [
              0.8888888888888888,
              "#fdca26"
             ],
             [
              1,
              "#f0f921"
             ]
            ],
            "type": "heatmap"
           }
          ],
          "heatmapgl": [
           {
            "colorbar": {
             "outlinewidth": 0,
             "ticks": ""
            },
            "colorscale": [
             [
              0,
              "#0d0887"
             ],
             [
              0.1111111111111111,
              "#46039f"
             ],
             [
              0.2222222222222222,
              "#7201a8"
             ],
             [
              0.3333333333333333,
              "#9c179e"
             ],
             [
              0.4444444444444444,
              "#bd3786"
             ],
             [
              0.5555555555555556,
              "#d8576b"
             ],
             [
              0.6666666666666666,
              "#ed7953"
             ],
             [
              0.7777777777777778,
              "#fb9f3a"
             ],
             [
              0.8888888888888888,
              "#fdca26"
             ],
             [
              1,
              "#f0f921"
             ]
            ],
            "type": "heatmapgl"
           }
          ],
          "histogram": [
           {
            "marker": {
             "colorbar": {
              "outlinewidth": 0,
              "ticks": ""
             }
            },
            "type": "histogram"
           }
          ],
          "histogram2d": [
           {
            "colorbar": {
             "outlinewidth": 0,
             "ticks": ""
            },
            "colorscale": [
             [
              0,
              "#0d0887"
             ],
             [
              0.1111111111111111,
              "#46039f"
             ],
             [
              0.2222222222222222,
              "#7201a8"
             ],
             [
              0.3333333333333333,
              "#9c179e"
             ],
             [
              0.4444444444444444,
              "#bd3786"
             ],
             [
              0.5555555555555556,
              "#d8576b"
             ],
             [
              0.6666666666666666,
              "#ed7953"
             ],
             [
              0.7777777777777778,
              "#fb9f3a"
             ],
             [
              0.8888888888888888,
              "#fdca26"
             ],
             [
              1,
              "#f0f921"
             ]
            ],
            "type": "histogram2d"
           }
          ],
          "histogram2dcontour": [
           {
            "colorbar": {
             "outlinewidth": 0,
             "ticks": ""
            },
            "colorscale": [
             [
              0,
              "#0d0887"
             ],
             [
              0.1111111111111111,
              "#46039f"
             ],
             [
              0.2222222222222222,
              "#7201a8"
             ],
             [
              0.3333333333333333,
              "#9c179e"
             ],
             [
              0.4444444444444444,
              "#bd3786"
             ],
             [
              0.5555555555555556,
              "#d8576b"
             ],
             [
              0.6666666666666666,
              "#ed7953"
             ],
             [
              0.7777777777777778,
              "#fb9f3a"
             ],
             [
              0.8888888888888888,
              "#fdca26"
             ],
             [
              1,
              "#f0f921"
             ]
            ],
            "type": "histogram2dcontour"
           }
          ],
          "mesh3d": [
           {
            "colorbar": {
             "outlinewidth": 0,
             "ticks": ""
            },
            "type": "mesh3d"
           }
          ],
          "parcoords": [
           {
            "line": {
             "colorbar": {
              "outlinewidth": 0,
              "ticks": ""
             }
            },
            "type": "parcoords"
           }
          ],
          "pie": [
           {
            "automargin": true,
            "type": "pie"
           }
          ],
          "scatter": [
           {
            "marker": {
             "colorbar": {
              "outlinewidth": 0,
              "ticks": ""
             }
            },
            "type": "scatter"
           }
          ],
          "scatter3d": [
           {
            "line": {
             "colorbar": {
              "outlinewidth": 0,
              "ticks": ""
             }
            },
            "marker": {
             "colorbar": {
              "outlinewidth": 0,
              "ticks": ""
             }
            },
            "type": "scatter3d"
           }
          ],
          "scattercarpet": [
           {
            "marker": {
             "colorbar": {
              "outlinewidth": 0,
              "ticks": ""
             }
            },
            "type": "scattercarpet"
           }
          ],
          "scattergeo": [
           {
            "marker": {
             "colorbar": {
              "outlinewidth": 0,
              "ticks": ""
             }
            },
            "type": "scattergeo"
           }
          ],
          "scattergl": [
           {
            "marker": {
             "colorbar": {
              "outlinewidth": 0,
              "ticks": ""
             }
            },
            "type": "scattergl"
           }
          ],
          "scattermapbox": [
           {
            "marker": {
             "colorbar": {
              "outlinewidth": 0,
              "ticks": ""
             }
            },
            "type": "scattermapbox"
           }
          ],
          "scatterpolar": [
           {
            "marker": {
             "colorbar": {
              "outlinewidth": 0,
              "ticks": ""
             }
            },
            "type": "scatterpolar"
           }
          ],
          "scatterpolargl": [
           {
            "marker": {
             "colorbar": {
              "outlinewidth": 0,
              "ticks": ""
             }
            },
            "type": "scatterpolargl"
           }
          ],
          "scatterternary": [
           {
            "marker": {
             "colorbar": {
              "outlinewidth": 0,
              "ticks": ""
             }
            },
            "type": "scatterternary"
           }
          ],
          "surface": [
           {
            "colorbar": {
             "outlinewidth": 0,
             "ticks": ""
            },
            "colorscale": [
             [
              0,
              "#0d0887"
             ],
             [
              0.1111111111111111,
              "#46039f"
             ],
             [
              0.2222222222222222,
              "#7201a8"
             ],
             [
              0.3333333333333333,
              "#9c179e"
             ],
             [
              0.4444444444444444,
              "#bd3786"
             ],
             [
              0.5555555555555556,
              "#d8576b"
             ],
             [
              0.6666666666666666,
              "#ed7953"
             ],
             [
              0.7777777777777778,
              "#fb9f3a"
             ],
             [
              0.8888888888888888,
              "#fdca26"
             ],
             [
              1,
              "#f0f921"
             ]
            ],
            "type": "surface"
           }
          ],
          "table": [
           {
            "cells": {
             "fill": {
              "color": "#EBF0F8"
             },
             "line": {
              "color": "white"
             }
            },
            "header": {
             "fill": {
              "color": "#C8D4E3"
             },
             "line": {
              "color": "white"
             }
            },
            "type": "table"
           }
          ]
         },
         "layout": {
          "annotationdefaults": {
           "arrowcolor": "#2a3f5f",
           "arrowhead": 0,
           "arrowwidth": 1
          },
          "autotypenumbers": "strict",
          "coloraxis": {
           "colorbar": {
            "outlinewidth": 0,
            "ticks": ""
           }
          },
          "colorscale": {
           "diverging": [
            [
             0,
             "#8e0152"
            ],
            [
             0.1,
             "#c51b7d"
            ],
            [
             0.2,
             "#de77ae"
            ],
            [
             0.3,
             "#f1b6da"
            ],
            [
             0.4,
             "#fde0ef"
            ],
            [
             0.5,
             "#f7f7f7"
            ],
            [
             0.6,
             "#e6f5d0"
            ],
            [
             0.7,
             "#b8e186"
            ],
            [
             0.8,
             "#7fbc41"
            ],
            [
             0.9,
             "#4d9221"
            ],
            [
             1,
             "#276419"
            ]
           ],
           "sequential": [
            [
             0,
             "#0d0887"
            ],
            [
             0.1111111111111111,
             "#46039f"
            ],
            [
             0.2222222222222222,
             "#7201a8"
            ],
            [
             0.3333333333333333,
             "#9c179e"
            ],
            [
             0.4444444444444444,
             "#bd3786"
            ],
            [
             0.5555555555555556,
             "#d8576b"
            ],
            [
             0.6666666666666666,
             "#ed7953"
            ],
            [
             0.7777777777777778,
             "#fb9f3a"
            ],
            [
             0.8888888888888888,
             "#fdca26"
            ],
            [
             1,
             "#f0f921"
            ]
           ],
           "sequentialminus": [
            [
             0,
             "#0d0887"
            ],
            [
             0.1111111111111111,
             "#46039f"
            ],
            [
             0.2222222222222222,
             "#7201a8"
            ],
            [
             0.3333333333333333,
             "#9c179e"
            ],
            [
             0.4444444444444444,
             "#bd3786"
            ],
            [
             0.5555555555555556,
             "#d8576b"
            ],
            [
             0.6666666666666666,
             "#ed7953"
            ],
            [
             0.7777777777777778,
             "#fb9f3a"
            ],
            [
             0.8888888888888888,
             "#fdca26"
            ],
            [
             1,
             "#f0f921"
            ]
           ]
          },
          "colorway": [
           "#636efa",
           "#EF553B",
           "#00cc96",
           "#ab63fa",
           "#FFA15A",
           "#19d3f3",
           "#FF6692",
           "#B6E880",
           "#FF97FF",
           "#FECB52"
          ],
          "font": {
           "color": "#2a3f5f"
          },
          "geo": {
           "bgcolor": "white",
           "lakecolor": "white",
           "landcolor": "#E5ECF6",
           "showlakes": true,
           "showland": true,
           "subunitcolor": "white"
          },
          "hoverlabel": {
           "align": "left"
          },
          "hovermode": "closest",
          "mapbox": {
           "style": "light"
          },
          "paper_bgcolor": "white",
          "plot_bgcolor": "#E5ECF6",
          "polar": {
           "angularaxis": {
            "gridcolor": "white",
            "linecolor": "white",
            "ticks": ""
           },
           "bgcolor": "#E5ECF6",
           "radialaxis": {
            "gridcolor": "white",
            "linecolor": "white",
            "ticks": ""
           }
          },
          "scene": {
           "xaxis": {
            "backgroundcolor": "#E5ECF6",
            "gridcolor": "white",
            "gridwidth": 2,
            "linecolor": "white",
            "showbackground": true,
            "ticks": "",
            "zerolinecolor": "white"
           },
           "yaxis": {
            "backgroundcolor": "#E5ECF6",
            "gridcolor": "white",
            "gridwidth": 2,
            "linecolor": "white",
            "showbackground": true,
            "ticks": "",
            "zerolinecolor": "white"
           },
           "zaxis": {
            "backgroundcolor": "#E5ECF6",
            "gridcolor": "white",
            "gridwidth": 2,
            "linecolor": "white",
            "showbackground": true,
            "ticks": "",
            "zerolinecolor": "white"
           }
          },
          "shapedefaults": {
           "line": {
            "color": "#2a3f5f"
           }
          },
          "ternary": {
           "aaxis": {
            "gridcolor": "white",
            "linecolor": "white",
            "ticks": ""
           },
           "baxis": {
            "gridcolor": "white",
            "linecolor": "white",
            "ticks": ""
           },
           "bgcolor": "#E5ECF6",
           "caxis": {
            "gridcolor": "white",
            "linecolor": "white",
            "ticks": ""
           }
          },
          "title": {
           "x": 0.05
          },
          "xaxis": {
           "automargin": true,
           "gridcolor": "white",
           "linecolor": "white",
           "ticks": "",
           "title": {
            "standoff": 15
           },
           "zerolinecolor": "white",
           "zerolinewidth": 2
          },
          "yaxis": {
           "automargin": true,
           "gridcolor": "white",
           "linecolor": "white",
           "ticks": "",
           "title": {
            "standoff": 15
           },
           "zerolinecolor": "white",
           "zerolinewidth": 2
          }
         }
        },
        "title": {
         "text": "Зависимость погрешности от длины шага по координате"
        },
        "xaxis": {
         "title": {
          "text": "$h_x$"
         }
        },
        "yaxis": {
         "title": {
          "text": "$\\epsilon$"
         }
        }
       }
      },
      "text/html": [
       "<div>                            <div id=\"8609c3d8-b101-45a5-a1af-be76722bc0f3\" class=\"plotly-graph-div\" style=\"height:525px; width:100%;\"></div>            <script type=\"text/javascript\">                require([\"plotly\"], function(Plotly) {                    window.PLOTLYENV=window.PLOTLYENV || {};                                    if (document.getElementById(\"8609c3d8-b101-45a5-a1af-be76722bc0f3\")) {                    Plotly.newPlot(                        \"8609c3d8-b101-45a5-a1af-be76722bc0f3\",                        [{\"line\": {\"width\": 3}, \"mode\": \"lines\", \"name\": \"\\u041c\\u0435\\u0442\\u043e\\u0434 \\u0434\\u0440\\u043e\\u0431\\u043d\\u044b\\u0445 \\u0448\\u0430\\u0433\\u043e\\u0432\", \"showlegend\": true, \"text\": \"(x, y)\", \"type\": \"scatter\", \"x\": [0.3333333333333333, 0.25, 0.2, 0.16666666666666666, 0.14285714285714285, 0.125, 0.1111111111111111, 0.1, 0.09090909090909091, 0.08333333333333333, 0.07692307692307693, 0.07142857142857142, 0.06666666666666667, 0.0625, 0.058823529411764705, 0.05555555555555555], \"y\": [2.2848718773312847e-05, 1.9010733327342043e-05, 1.6035754192627592e-05, 1.3666689351594097e-05, 1.173891165960561e-05, 1.015178869522182e-05, 8.851232256099629e-06, 7.743465341882859e-06, 6.7897008719841615e-06, 5.960824772582862e-06, 5.234565114158318e-06, 4.593599335378506e-06, 4.024256113068781e-06, 3.5156049161411126e-06, 3.5229587275154016e-06, 3.7802182906832014e-06, 4.016096753332865e-06, 4.233214834181154e-06, 4.433777945034856e-06, 4.619655587785321e-06, 4.79244318937977e-06, 4.954787117092962e-06, 5.132765704119468e-06, 5.2991335888169515e-06, 5.455002069773007e-06, 5.601344414413179e-06, 5.739016681980402e-06, 5.868774884739137e-06, 5.991289217432971e-06, 6.107155923305574e-06, 6.216907242458935e-06, 6.321019794765515e-06, 6.4199216774851744e-06, 6.513998501911923e-06, 6.603598549622669e-06, 6.689037194596015e-06, 6.770600710641061e-06, 6.848549561193629e-06, 6.923121252324083e-06, 6.994532814693643e-06, 7.062982970088006e-06, 7.128654027908632e-06, 7.191713550500634e-06]}, {\"line\": {\"width\": 3.7}, \"mode\": \"lines\", \"name\": \"\\u041c\\u0435\\u0442\\u043e\\u0434 \\u043f\\u0435\\u0440\\u0435\\u043c\\u0435\\u043d\\u043d\\u044b\\u0445 \\u043d\\u0430\\u043f\\u0440\\u0430\\u0432\\u043b\\u0435\\u043d\\u0438\\u0439\", \"showlegend\": true, \"text\": \"(x, y)\", \"type\": \"scatter\", \"x\": [0.3333333333333333, 0.25, 0.2, 0.16666666666666666, 0.14285714285714285, 0.125, 0.1111111111111111, 0.1, 0.09090909090909091, 0.08333333333333333, 0.07692307692307693, 0.07142857142857142, 0.06666666666666667, 0.0625, 0.058823529411764705, 0.05555555555555555], \"y\": [2.3074501202177688e-05, 2.0230050552554335e-05, 1.8009924390450795e-05, 1.6225701830436257e-05, 1.4760151003516685e-05, 1.3535375582096609e-05, 1.2497060639860559e-05, 1.1605989500634294e-05, 1.0833115073312083e-05, 1.015648853795459e-05, 9.559241032619514e-06, 9.028210006735149e-06, 8.552982261162967e-06, 8.125215289610521e-06, 7.738148385378896e-06, 7.386245226335131e-06, 7.064928885490707e-06, 6.770382727405155e-06, 6.499398912110933e-06, 6.249261751969381e-06, 6.01765690814049e-06, 5.802599977037248e-06, 5.602379794851231e-06, 5.415513034726094e-06, 5.2407075556171195e-06, 5.076832596440095e-06, 4.922894370177344e-06, 4.778015951482084e-06, 4.6414206028772e-06, 4.5124178736172246e-06, 4.3903919486210085e-06, 4.274791834074643e-06, 4.165123051081965e-06, 4.060940573932803e-06, 3.961842800789261e-06, 3.8674663851573365e-06, 3.7774817881025548e-06, 3.6915894366351677e-06, 3.60951639411744e-06, 3.5310134648702805e-06, 3.4558526682537673e-06, 3.383825028474563e-06, 3.3147386349940965e-06]}],                        {\"template\": {\"data\": {\"bar\": [{\"error_x\": {\"color\": \"#2a3f5f\"}, \"error_y\": {\"color\": \"#2a3f5f\"}, \"marker\": {\"line\": {\"color\": \"#E5ECF6\", \"width\": 0.5}}, \"type\": \"bar\"}], \"barpolar\": [{\"marker\": {\"line\": {\"color\": \"#E5ECF6\", \"width\": 0.5}}, \"type\": \"barpolar\"}], \"carpet\": [{\"aaxis\": {\"endlinecolor\": \"#2a3f5f\", \"gridcolor\": \"white\", \"linecolor\": \"white\", \"minorgridcolor\": \"white\", \"startlinecolor\": \"#2a3f5f\"}, \"baxis\": {\"endlinecolor\": \"#2a3f5f\", \"gridcolor\": \"white\", \"linecolor\": \"white\", \"minorgridcolor\": \"white\", \"startlinecolor\": \"#2a3f5f\"}, \"type\": \"carpet\"}], \"choropleth\": [{\"colorbar\": {\"outlinewidth\": 0, \"ticks\": \"\"}, \"type\": \"choropleth\"}], \"contour\": [{\"colorbar\": {\"outlinewidth\": 0, \"ticks\": \"\"}, \"colorscale\": [[0.0, \"#0d0887\"], [0.1111111111111111, \"#46039f\"], [0.2222222222222222, \"#7201a8\"], [0.3333333333333333, \"#9c179e\"], [0.4444444444444444, \"#bd3786\"], [0.5555555555555556, \"#d8576b\"], [0.6666666666666666, \"#ed7953\"], [0.7777777777777778, \"#fb9f3a\"], [0.8888888888888888, \"#fdca26\"], [1.0, \"#f0f921\"]], \"type\": \"contour\"}], \"contourcarpet\": [{\"colorbar\": {\"outlinewidth\": 0, \"ticks\": \"\"}, \"type\": \"contourcarpet\"}], \"heatmap\": [{\"colorbar\": {\"outlinewidth\": 0, \"ticks\": \"\"}, \"colorscale\": [[0.0, \"#0d0887\"], [0.1111111111111111, \"#46039f\"], [0.2222222222222222, \"#7201a8\"], [0.3333333333333333, \"#9c179e\"], [0.4444444444444444, \"#bd3786\"], [0.5555555555555556, \"#d8576b\"], [0.6666666666666666, \"#ed7953\"], [0.7777777777777778, \"#fb9f3a\"], [0.8888888888888888, \"#fdca26\"], [1.0, \"#f0f921\"]], \"type\": \"heatmap\"}], \"heatmapgl\": [{\"colorbar\": {\"outlinewidth\": 0, \"ticks\": \"\"}, \"colorscale\": [[0.0, \"#0d0887\"], [0.1111111111111111, \"#46039f\"], [0.2222222222222222, \"#7201a8\"], [0.3333333333333333, \"#9c179e\"], [0.4444444444444444, \"#bd3786\"], [0.5555555555555556, \"#d8576b\"], [0.6666666666666666, \"#ed7953\"], [0.7777777777777778, \"#fb9f3a\"], [0.8888888888888888, \"#fdca26\"], [1.0, \"#f0f921\"]], \"type\": \"heatmapgl\"}], \"histogram\": [{\"marker\": {\"colorbar\": {\"outlinewidth\": 0, \"ticks\": \"\"}}, \"type\": \"histogram\"}], \"histogram2d\": [{\"colorbar\": {\"outlinewidth\": 0, \"ticks\": \"\"}, \"colorscale\": [[0.0, \"#0d0887\"], [0.1111111111111111, \"#46039f\"], [0.2222222222222222, \"#7201a8\"], [0.3333333333333333, \"#9c179e\"], [0.4444444444444444, \"#bd3786\"], [0.5555555555555556, \"#d8576b\"], [0.6666666666666666, \"#ed7953\"], [0.7777777777777778, \"#fb9f3a\"], [0.8888888888888888, \"#fdca26\"], [1.0, \"#f0f921\"]], \"type\": \"histogram2d\"}], \"histogram2dcontour\": [{\"colorbar\": {\"outlinewidth\": 0, \"ticks\": \"\"}, \"colorscale\": [[0.0, \"#0d0887\"], [0.1111111111111111, \"#46039f\"], [0.2222222222222222, \"#7201a8\"], [0.3333333333333333, \"#9c179e\"], [0.4444444444444444, \"#bd3786\"], [0.5555555555555556, \"#d8576b\"], [0.6666666666666666, \"#ed7953\"], [0.7777777777777778, \"#fb9f3a\"], [0.8888888888888888, \"#fdca26\"], [1.0, \"#f0f921\"]], \"type\": \"histogram2dcontour\"}], \"mesh3d\": [{\"colorbar\": {\"outlinewidth\": 0, \"ticks\": \"\"}, \"type\": \"mesh3d\"}], \"parcoords\": [{\"line\": {\"colorbar\": {\"outlinewidth\": 0, \"ticks\": \"\"}}, \"type\": \"parcoords\"}], \"pie\": [{\"automargin\": true, \"type\": \"pie\"}], \"scatter\": [{\"marker\": {\"colorbar\": {\"outlinewidth\": 0, \"ticks\": \"\"}}, \"type\": \"scatter\"}], \"scatter3d\": [{\"line\": {\"colorbar\": {\"outlinewidth\": 0, \"ticks\": \"\"}}, \"marker\": {\"colorbar\": {\"outlinewidth\": 0, \"ticks\": \"\"}}, \"type\": \"scatter3d\"}], \"scattercarpet\": [{\"marker\": {\"colorbar\": {\"outlinewidth\": 0, \"ticks\": \"\"}}, \"type\": \"scattercarpet\"}], \"scattergeo\": [{\"marker\": {\"colorbar\": {\"outlinewidth\": 0, \"ticks\": \"\"}}, \"type\": \"scattergeo\"}], \"scattergl\": [{\"marker\": {\"colorbar\": {\"outlinewidth\": 0, \"ticks\": \"\"}}, \"type\": \"scattergl\"}], \"scattermapbox\": [{\"marker\": {\"colorbar\": {\"outlinewidth\": 0, \"ticks\": \"\"}}, \"type\": \"scattermapbox\"}], \"scatterpolar\": [{\"marker\": {\"colorbar\": {\"outlinewidth\": 0, \"ticks\": \"\"}}, \"type\": \"scatterpolar\"}], \"scatterpolargl\": [{\"marker\": {\"colorbar\": {\"outlinewidth\": 0, \"ticks\": \"\"}}, \"type\": \"scatterpolargl\"}], \"scatterternary\": [{\"marker\": {\"colorbar\": {\"outlinewidth\": 0, \"ticks\": \"\"}}, \"type\": \"scatterternary\"}], \"surface\": [{\"colorbar\": {\"outlinewidth\": 0, \"ticks\": \"\"}, \"colorscale\": [[0.0, \"#0d0887\"], [0.1111111111111111, \"#46039f\"], [0.2222222222222222, \"#7201a8\"], [0.3333333333333333, \"#9c179e\"], [0.4444444444444444, \"#bd3786\"], [0.5555555555555556, \"#d8576b\"], [0.6666666666666666, \"#ed7953\"], [0.7777777777777778, \"#fb9f3a\"], [0.8888888888888888, \"#fdca26\"], [1.0, \"#f0f921\"]], \"type\": \"surface\"}], \"table\": [{\"cells\": {\"fill\": {\"color\": \"#EBF0F8\"}, \"line\": {\"color\": \"white\"}}, \"header\": {\"fill\": {\"color\": \"#C8D4E3\"}, \"line\": {\"color\": \"white\"}}, \"type\": \"table\"}]}, \"layout\": {\"annotationdefaults\": {\"arrowcolor\": \"#2a3f5f\", \"arrowhead\": 0, \"arrowwidth\": 1}, \"autotypenumbers\": \"strict\", \"coloraxis\": {\"colorbar\": {\"outlinewidth\": 0, \"ticks\": \"\"}}, \"colorscale\": {\"diverging\": [[0, \"#8e0152\"], [0.1, \"#c51b7d\"], [0.2, \"#de77ae\"], [0.3, \"#f1b6da\"], [0.4, \"#fde0ef\"], [0.5, \"#f7f7f7\"], [0.6, \"#e6f5d0\"], [0.7, \"#b8e186\"], [0.8, \"#7fbc41\"], [0.9, \"#4d9221\"], [1, \"#276419\"]], \"sequential\": [[0.0, \"#0d0887\"], [0.1111111111111111, \"#46039f\"], [0.2222222222222222, \"#7201a8\"], [0.3333333333333333, \"#9c179e\"], [0.4444444444444444, \"#bd3786\"], [0.5555555555555556, \"#d8576b\"], [0.6666666666666666, \"#ed7953\"], [0.7777777777777778, \"#fb9f3a\"], [0.8888888888888888, \"#fdca26\"], [1.0, \"#f0f921\"]], \"sequentialminus\": [[0.0, \"#0d0887\"], [0.1111111111111111, \"#46039f\"], [0.2222222222222222, \"#7201a8\"], [0.3333333333333333, \"#9c179e\"], [0.4444444444444444, \"#bd3786\"], [0.5555555555555556, \"#d8576b\"], [0.6666666666666666, \"#ed7953\"], [0.7777777777777778, \"#fb9f3a\"], [0.8888888888888888, \"#fdca26\"], [1.0, \"#f0f921\"]]}, \"colorway\": [\"#636efa\", \"#EF553B\", \"#00cc96\", \"#ab63fa\", \"#FFA15A\", \"#19d3f3\", \"#FF6692\", \"#B6E880\", \"#FF97FF\", \"#FECB52\"], \"font\": {\"color\": \"#2a3f5f\"}, \"geo\": {\"bgcolor\": \"white\", \"lakecolor\": \"white\", \"landcolor\": \"#E5ECF6\", \"showlakes\": true, \"showland\": true, \"subunitcolor\": \"white\"}, \"hoverlabel\": {\"align\": \"left\"}, \"hovermode\": \"closest\", \"mapbox\": {\"style\": \"light\"}, \"paper_bgcolor\": \"white\", \"plot_bgcolor\": \"#E5ECF6\", \"polar\": {\"angularaxis\": {\"gridcolor\": \"white\", \"linecolor\": \"white\", \"ticks\": \"\"}, \"bgcolor\": \"#E5ECF6\", \"radialaxis\": {\"gridcolor\": \"white\", \"linecolor\": \"white\", \"ticks\": \"\"}}, \"scene\": {\"xaxis\": {\"backgroundcolor\": \"#E5ECF6\", \"gridcolor\": \"white\", \"gridwidth\": 2, \"linecolor\": \"white\", \"showbackground\": true, \"ticks\": \"\", \"zerolinecolor\": \"white\"}, \"yaxis\": {\"backgroundcolor\": \"#E5ECF6\", \"gridcolor\": \"white\", \"gridwidth\": 2, \"linecolor\": \"white\", \"showbackground\": true, \"ticks\": \"\", \"zerolinecolor\": \"white\"}, \"zaxis\": {\"backgroundcolor\": \"#E5ECF6\", \"gridcolor\": \"white\", \"gridwidth\": 2, \"linecolor\": \"white\", \"showbackground\": true, \"ticks\": \"\", \"zerolinecolor\": \"white\"}}, \"shapedefaults\": {\"line\": {\"color\": \"#2a3f5f\"}}, \"ternary\": {\"aaxis\": {\"gridcolor\": \"white\", \"linecolor\": \"white\", \"ticks\": \"\"}, \"baxis\": {\"gridcolor\": \"white\", \"linecolor\": \"white\", \"ticks\": \"\"}, \"bgcolor\": \"#E5ECF6\", \"caxis\": {\"gridcolor\": \"white\", \"linecolor\": \"white\", \"ticks\": \"\"}}, \"title\": {\"x\": 0.05}, \"xaxis\": {\"automargin\": true, \"gridcolor\": \"white\", \"linecolor\": \"white\", \"ticks\": \"\", \"title\": {\"standoff\": 15}, \"zerolinecolor\": \"white\", \"zerolinewidth\": 2}, \"yaxis\": {\"automargin\": true, \"gridcolor\": \"white\", \"linecolor\": \"white\", \"ticks\": \"\", \"title\": {\"standoff\": 15}, \"zerolinecolor\": \"white\", \"zerolinewidth\": 2}}}, \"title\": {\"text\": \"\\u0417\\u0430\\u0432\\u0438\\u0441\\u0438\\u043c\\u043e\\u0441\\u0442\\u044c \\u043f\\u043e\\u0433\\u0440\\u0435\\u0448\\u043d\\u043e\\u0441\\u0442\\u0438 \\u043e\\u0442 \\u0434\\u043b\\u0438\\u043d\\u044b \\u0448\\u0430\\u0433\\u0430 \\u043f\\u043e \\u043a\\u043e\\u043e\\u0440\\u0434\\u0438\\u043d\\u0430\\u0442\\u0435\"}, \"xaxis\": {\"title\": {\"text\": \"$h_x$\"}}, \"yaxis\": {\"title\": {\"text\": \"$\\\\epsilon$\"}}},                        {\"responsive\": true}                    ).then(function(){\n",
       "                            \n",
       "var gd = document.getElementById('8609c3d8-b101-45a5-a1af-be76722bc0f3');\n",
       "var x = new MutationObserver(function (mutations, observer) {{\n",
       "        var display = window.getComputedStyle(gd).display;\n",
       "        if (!display || display === 'none') {{\n",
       "            console.log([gd, 'removed!']);\n",
       "            Plotly.purge(gd);\n",
       "            observer.disconnect();\n",
       "        }}\n",
       "}});\n",
       "\n",
       "// Listen for the removal of the full notebook cells\n",
       "var notebookContainer = gd.closest('#notebook-container');\n",
       "if (notebookContainer) {{\n",
       "    x.observe(notebookContainer, {childList: true});\n",
       "}}\n",
       "\n",
       "// Listen for the clearing of the current output cell\n",
       "var outputEl = gd.closest('.output');\n",
       "if (outputEl) {{\n",
       "    x.observe(outputEl, {childList: true});\n",
       "}}\n",
       "\n",
       "                        })                };                });            </script>        </div>"
      ]
     },
     "metadata": {},
     "output_type": "display_data"
    },
    {
     "data": {
      "application/vnd.plotly.v1+json": {
       "config": {
        "linkText": "Export to plot.ly",
        "plotlyServerURL": "https://plot.ly",
        "showLink": false
       },
       "data": [
        {
         "mode": "lines",
         "name": "Метод дробных шагов",
         "showlegend": true,
         "text": "(x, y)",
         "type": "scatter",
         "x": [
          -1.0986122886681098,
          -1.3862943611198906,
          -1.6094379124341003,
          -1.791759469228055,
          -1.9459101490553135,
          -2.0794415416798357,
          -2.1972245773362196,
          -2.3025850929940455,
          -2.3978952727983707,
          -2.4849066497880004,
          -2.5649493574615367,
          -2.639057329615259,
          -2.70805020110221,
          -2.772588722239781,
          -2.833213344056216,
          -2.890371757896165
         ],
         "y": [
          -10.686615513385918,
          -10.870506826335161,
          -11.04068969177321,
          -11.200549120056715,
          -11.352601451472676,
          -11.497860641872249,
          -11.634953870659784,
          -11.768661251969185,
          -11.900103671563766,
          -12.030301701799736,
          -12.160226789841634,
          -12.290846672263855,
          -12.42317048080332,
          -12.558298951877926,
          -12.556209373826961,
          -12.485728801142189,
          -12.425200083899698,
          -12.372548845485332,
          -12.326258528079489,
          -12.28519040374789,
          -12.248470216164733,
          -12.215156354355933,
          -12.179865920446485,
          -12.14796722457762,
          -12.118977559252546,
          -12.09250391503397,
          -12.068222672067504,
          -12.045864653787687,
          -12.025203940709229,
          -12.006049372150475,
          -11.988238002772464,
          -11.971630002891368,
          -11.956104640105487,
          -11.941557081090007,
          -11.927895822727063,
          -11.915040611281942,
          -11.902920743714871,
          -11.891473671002272,
          -11.880643842002566,
          -11.870381740541376,
          -11.860643078684667,
          -11.851388117247874,
          -11.842581090495178
         ]
        },
        {
         "mode": "lines",
         "name": "Метод переменных направлений",
         "showlegend": true,
         "text": "(x, y)",
         "type": "scatter",
         "x": [
          -1.0986122886681098,
          -1.3862943611198906,
          -1.6094379124341003,
          -1.791759469228055,
          -1.9459101490553135,
          -2.0794415416798357,
          -2.1972245773362196,
          -2.3025850929940455,
          -2.3978952727983707,
          -2.4849066497880004,
          -2.5649493574615367,
          -2.639057329615259,
          -2.70805020110221,
          -2.772588722239781,
          -2.833213344056216,
          -2.890371757896165
         ],
         "y": [
          -10.676782394182661,
          -10.808341407897267,
          -10.9245875969834,
          -11.028914040196465,
          -11.123579508253718,
          -11.210203886328692,
          -11.29001709011899,
          -11.363989256846077,
          -11.432902904578532,
          -11.497397791896084,
          -11.558002223945865,
          -11.615156437567622,
          -11.669230533357846,
          -11.720538332916684,
          -11.769348125677142,
          -11.81589104057746,
          -11.860367607626397,
          -11.902952939786438,
          -11.943800860398621,
          -11.983047220877543,
          -12.02081259232536,
          -12.05720446895276,
          -12.092319087128237,
          -12.126242938744129,
          -12.159054039049089,
          -12.190822995471512,
          -12.221613913811385,
          -12.251485170539214,
          -12.28049007417168,
          -12.308677434223307,
          -12.336092052716593,
          -12.36277515054484,
          -12.388764738704584,
          -12.41409594272527,
          -12.438801287206692,
          -12.46291094615756,
          -12.486452963962018,
          -12.509453451018839,
          -12.531936757441663,
          -12.553925627694715,
          -12.575441338644788,
          -12.596503823090597,
          -12.617131780573768
         ]
        }
       ],
       "layout": {
        "template": {
         "data": {
          "bar": [
           {
            "error_x": {
             "color": "#2a3f5f"
            },
            "error_y": {
             "color": "#2a3f5f"
            },
            "marker": {
             "line": {
              "color": "#E5ECF6",
              "width": 0.5
             }
            },
            "type": "bar"
           }
          ],
          "barpolar": [
           {
            "marker": {
             "line": {
              "color": "#E5ECF6",
              "width": 0.5
             }
            },
            "type": "barpolar"
           }
          ],
          "carpet": [
           {
            "aaxis": {
             "endlinecolor": "#2a3f5f",
             "gridcolor": "white",
             "linecolor": "white",
             "minorgridcolor": "white",
             "startlinecolor": "#2a3f5f"
            },
            "baxis": {
             "endlinecolor": "#2a3f5f",
             "gridcolor": "white",
             "linecolor": "white",
             "minorgridcolor": "white",
             "startlinecolor": "#2a3f5f"
            },
            "type": "carpet"
           }
          ],
          "choropleth": [
           {
            "colorbar": {
             "outlinewidth": 0,
             "ticks": ""
            },
            "type": "choropleth"
           }
          ],
          "contour": [
           {
            "colorbar": {
             "outlinewidth": 0,
             "ticks": ""
            },
            "colorscale": [
             [
              0,
              "#0d0887"
             ],
             [
              0.1111111111111111,
              "#46039f"
             ],
             [
              0.2222222222222222,
              "#7201a8"
             ],
             [
              0.3333333333333333,
              "#9c179e"
             ],
             [
              0.4444444444444444,
              "#bd3786"
             ],
             [
              0.5555555555555556,
              "#d8576b"
             ],
             [
              0.6666666666666666,
              "#ed7953"
             ],
             [
              0.7777777777777778,
              "#fb9f3a"
             ],
             [
              0.8888888888888888,
              "#fdca26"
             ],
             [
              1,
              "#f0f921"
             ]
            ],
            "type": "contour"
           }
          ],
          "contourcarpet": [
           {
            "colorbar": {
             "outlinewidth": 0,
             "ticks": ""
            },
            "type": "contourcarpet"
           }
          ],
          "heatmap": [
           {
            "colorbar": {
             "outlinewidth": 0,
             "ticks": ""
            },
            "colorscale": [
             [
              0,
              "#0d0887"
             ],
             [
              0.1111111111111111,
              "#46039f"
             ],
             [
              0.2222222222222222,
              "#7201a8"
             ],
             [
              0.3333333333333333,
              "#9c179e"
             ],
             [
              0.4444444444444444,
              "#bd3786"
             ],
             [
              0.5555555555555556,
              "#d8576b"
             ],
             [
              0.6666666666666666,
              "#ed7953"
             ],
             [
              0.7777777777777778,
              "#fb9f3a"
             ],
             [
              0.8888888888888888,
              "#fdca26"
             ],
             [
              1,
              "#f0f921"
             ]
            ],
            "type": "heatmap"
           }
          ],
          "heatmapgl": [
           {
            "colorbar": {
             "outlinewidth": 0,
             "ticks": ""
            },
            "colorscale": [
             [
              0,
              "#0d0887"
             ],
             [
              0.1111111111111111,
              "#46039f"
             ],
             [
              0.2222222222222222,
              "#7201a8"
             ],
             [
              0.3333333333333333,
              "#9c179e"
             ],
             [
              0.4444444444444444,
              "#bd3786"
             ],
             [
              0.5555555555555556,
              "#d8576b"
             ],
             [
              0.6666666666666666,
              "#ed7953"
             ],
             [
              0.7777777777777778,
              "#fb9f3a"
             ],
             [
              0.8888888888888888,
              "#fdca26"
             ],
             [
              1,
              "#f0f921"
             ]
            ],
            "type": "heatmapgl"
           }
          ],
          "histogram": [
           {
            "marker": {
             "colorbar": {
              "outlinewidth": 0,
              "ticks": ""
             }
            },
            "type": "histogram"
           }
          ],
          "histogram2d": [
           {
            "colorbar": {
             "outlinewidth": 0,
             "ticks": ""
            },
            "colorscale": [
             [
              0,
              "#0d0887"
             ],
             [
              0.1111111111111111,
              "#46039f"
             ],
             [
              0.2222222222222222,
              "#7201a8"
             ],
             [
              0.3333333333333333,
              "#9c179e"
             ],
             [
              0.4444444444444444,
              "#bd3786"
             ],
             [
              0.5555555555555556,
              "#d8576b"
             ],
             [
              0.6666666666666666,
              "#ed7953"
             ],
             [
              0.7777777777777778,
              "#fb9f3a"
             ],
             [
              0.8888888888888888,
              "#fdca26"
             ],
             [
              1,
              "#f0f921"
             ]
            ],
            "type": "histogram2d"
           }
          ],
          "histogram2dcontour": [
           {
            "colorbar": {
             "outlinewidth": 0,
             "ticks": ""
            },
            "colorscale": [
             [
              0,
              "#0d0887"
             ],
             [
              0.1111111111111111,
              "#46039f"
             ],
             [
              0.2222222222222222,
              "#7201a8"
             ],
             [
              0.3333333333333333,
              "#9c179e"
             ],
             [
              0.4444444444444444,
              "#bd3786"
             ],
             [
              0.5555555555555556,
              "#d8576b"
             ],
             [
              0.6666666666666666,
              "#ed7953"
             ],
             [
              0.7777777777777778,
              "#fb9f3a"
             ],
             [
              0.8888888888888888,
              "#fdca26"
             ],
             [
              1,
              "#f0f921"
             ]
            ],
            "type": "histogram2dcontour"
           }
          ],
          "mesh3d": [
           {
            "colorbar": {
             "outlinewidth": 0,
             "ticks": ""
            },
            "type": "mesh3d"
           }
          ],
          "parcoords": [
           {
            "line": {
             "colorbar": {
              "outlinewidth": 0,
              "ticks": ""
             }
            },
            "type": "parcoords"
           }
          ],
          "pie": [
           {
            "automargin": true,
            "type": "pie"
           }
          ],
          "scatter": [
           {
            "marker": {
             "colorbar": {
              "outlinewidth": 0,
              "ticks": ""
             }
            },
            "type": "scatter"
           }
          ],
          "scatter3d": [
           {
            "line": {
             "colorbar": {
              "outlinewidth": 0,
              "ticks": ""
             }
            },
            "marker": {
             "colorbar": {
              "outlinewidth": 0,
              "ticks": ""
             }
            },
            "type": "scatter3d"
           }
          ],
          "scattercarpet": [
           {
            "marker": {
             "colorbar": {
              "outlinewidth": 0,
              "ticks": ""
             }
            },
            "type": "scattercarpet"
           }
          ],
          "scattergeo": [
           {
            "marker": {
             "colorbar": {
              "outlinewidth": 0,
              "ticks": ""
             }
            },
            "type": "scattergeo"
           }
          ],
          "scattergl": [
           {
            "marker": {
             "colorbar": {
              "outlinewidth": 0,
              "ticks": ""
             }
            },
            "type": "scattergl"
           }
          ],
          "scattermapbox": [
           {
            "marker": {
             "colorbar": {
              "outlinewidth": 0,
              "ticks": ""
             }
            },
            "type": "scattermapbox"
           }
          ],
          "scatterpolar": [
           {
            "marker": {
             "colorbar": {
              "outlinewidth": 0,
              "ticks": ""
             }
            },
            "type": "scatterpolar"
           }
          ],
          "scatterpolargl": [
           {
            "marker": {
             "colorbar": {
              "outlinewidth": 0,
              "ticks": ""
             }
            },
            "type": "scatterpolargl"
           }
          ],
          "scatterternary": [
           {
            "marker": {
             "colorbar": {
              "outlinewidth": 0,
              "ticks": ""
             }
            },
            "type": "scatterternary"
           }
          ],
          "surface": [
           {
            "colorbar": {
             "outlinewidth": 0,
             "ticks": ""
            },
            "colorscale": [
             [
              0,
              "#0d0887"
             ],
             [
              0.1111111111111111,
              "#46039f"
             ],
             [
              0.2222222222222222,
              "#7201a8"
             ],
             [
              0.3333333333333333,
              "#9c179e"
             ],
             [
              0.4444444444444444,
              "#bd3786"
             ],
             [
              0.5555555555555556,
              "#d8576b"
             ],
             [
              0.6666666666666666,
              "#ed7953"
             ],
             [
              0.7777777777777778,
              "#fb9f3a"
             ],
             [
              0.8888888888888888,
              "#fdca26"
             ],
             [
              1,
              "#f0f921"
             ]
            ],
            "type": "surface"
           }
          ],
          "table": [
           {
            "cells": {
             "fill": {
              "color": "#EBF0F8"
             },
             "line": {
              "color": "white"
             }
            },
            "header": {
             "fill": {
              "color": "#C8D4E3"
             },
             "line": {
              "color": "white"
             }
            },
            "type": "table"
           }
          ]
         },
         "layout": {
          "annotationdefaults": {
           "arrowcolor": "#2a3f5f",
           "arrowhead": 0,
           "arrowwidth": 1
          },
          "autotypenumbers": "strict",
          "coloraxis": {
           "colorbar": {
            "outlinewidth": 0,
            "ticks": ""
           }
          },
          "colorscale": {
           "diverging": [
            [
             0,
             "#8e0152"
            ],
            [
             0.1,
             "#c51b7d"
            ],
            [
             0.2,
             "#de77ae"
            ],
            [
             0.3,
             "#f1b6da"
            ],
            [
             0.4,
             "#fde0ef"
            ],
            [
             0.5,
             "#f7f7f7"
            ],
            [
             0.6,
             "#e6f5d0"
            ],
            [
             0.7,
             "#b8e186"
            ],
            [
             0.8,
             "#7fbc41"
            ],
            [
             0.9,
             "#4d9221"
            ],
            [
             1,
             "#276419"
            ]
           ],
           "sequential": [
            [
             0,
             "#0d0887"
            ],
            [
             0.1111111111111111,
             "#46039f"
            ],
            [
             0.2222222222222222,
             "#7201a8"
            ],
            [
             0.3333333333333333,
             "#9c179e"
            ],
            [
             0.4444444444444444,
             "#bd3786"
            ],
            [
             0.5555555555555556,
             "#d8576b"
            ],
            [
             0.6666666666666666,
             "#ed7953"
            ],
            [
             0.7777777777777778,
             "#fb9f3a"
            ],
            [
             0.8888888888888888,
             "#fdca26"
            ],
            [
             1,
             "#f0f921"
            ]
           ],
           "sequentialminus": [
            [
             0,
             "#0d0887"
            ],
            [
             0.1111111111111111,
             "#46039f"
            ],
            [
             0.2222222222222222,
             "#7201a8"
            ],
            [
             0.3333333333333333,
             "#9c179e"
            ],
            [
             0.4444444444444444,
             "#bd3786"
            ],
            [
             0.5555555555555556,
             "#d8576b"
            ],
            [
             0.6666666666666666,
             "#ed7953"
            ],
            [
             0.7777777777777778,
             "#fb9f3a"
            ],
            [
             0.8888888888888888,
             "#fdca26"
            ],
            [
             1,
             "#f0f921"
            ]
           ]
          },
          "colorway": [
           "#636efa",
           "#EF553B",
           "#00cc96",
           "#ab63fa",
           "#FFA15A",
           "#19d3f3",
           "#FF6692",
           "#B6E880",
           "#FF97FF",
           "#FECB52"
          ],
          "font": {
           "color": "#2a3f5f"
          },
          "geo": {
           "bgcolor": "white",
           "lakecolor": "white",
           "landcolor": "#E5ECF6",
           "showlakes": true,
           "showland": true,
           "subunitcolor": "white"
          },
          "hoverlabel": {
           "align": "left"
          },
          "hovermode": "closest",
          "mapbox": {
           "style": "light"
          },
          "paper_bgcolor": "white",
          "plot_bgcolor": "#E5ECF6",
          "polar": {
           "angularaxis": {
            "gridcolor": "white",
            "linecolor": "white",
            "ticks": ""
           },
           "bgcolor": "#E5ECF6",
           "radialaxis": {
            "gridcolor": "white",
            "linecolor": "white",
            "ticks": ""
           }
          },
          "scene": {
           "xaxis": {
            "backgroundcolor": "#E5ECF6",
            "gridcolor": "white",
            "gridwidth": 2,
            "linecolor": "white",
            "showbackground": true,
            "ticks": "",
            "zerolinecolor": "white"
           },
           "yaxis": {
            "backgroundcolor": "#E5ECF6",
            "gridcolor": "white",
            "gridwidth": 2,
            "linecolor": "white",
            "showbackground": true,
            "ticks": "",
            "zerolinecolor": "white"
           },
           "zaxis": {
            "backgroundcolor": "#E5ECF6",
            "gridcolor": "white",
            "gridwidth": 2,
            "linecolor": "white",
            "showbackground": true,
            "ticks": "",
            "zerolinecolor": "white"
           }
          },
          "shapedefaults": {
           "line": {
            "color": "#2a3f5f"
           }
          },
          "ternary": {
           "aaxis": {
            "gridcolor": "white",
            "linecolor": "white",
            "ticks": ""
           },
           "baxis": {
            "gridcolor": "white",
            "linecolor": "white",
            "ticks": ""
           },
           "bgcolor": "#E5ECF6",
           "caxis": {
            "gridcolor": "white",
            "linecolor": "white",
            "ticks": ""
           }
          },
          "title": {
           "x": 0.05
          },
          "xaxis": {
           "automargin": true,
           "gridcolor": "white",
           "linecolor": "white",
           "ticks": "",
           "title": {
            "standoff": 15
           },
           "zerolinecolor": "white",
           "zerolinewidth": 2
          },
          "yaxis": {
           "automargin": true,
           "gridcolor": "white",
           "linecolor": "white",
           "ticks": "",
           "title": {
            "standoff": 15
           },
           "zerolinecolor": "white",
           "zerolinewidth": 2
          }
         }
        },
        "title": {
         "text": "Зависимость погрешности от длины шага по координате"
        },
        "xaxis": {
         "title": {
          "text": "$\\log{h_x}$"
         }
        },
        "yaxis": {
         "title": {
          "text": "$\\log{\\epsilon}$"
         }
        }
       }
      },
      "text/html": [
       "<div>                            <div id=\"4c878ac8-f596-4a2b-b764-2cdc1d5ae981\" class=\"plotly-graph-div\" style=\"height:525px; width:100%;\"></div>            <script type=\"text/javascript\">                require([\"plotly\"], function(Plotly) {                    window.PLOTLYENV=window.PLOTLYENV || {};                                    if (document.getElementById(\"4c878ac8-f596-4a2b-b764-2cdc1d5ae981\")) {                    Plotly.newPlot(                        \"4c878ac8-f596-4a2b-b764-2cdc1d5ae981\",                        [{\"mode\": \"lines\", \"name\": \"\\u041c\\u0435\\u0442\\u043e\\u0434 \\u0434\\u0440\\u043e\\u0431\\u043d\\u044b\\u0445 \\u0448\\u0430\\u0433\\u043e\\u0432\", \"showlegend\": true, \"text\": \"(x, y)\", \"type\": \"scatter\", \"x\": [-1.0986122886681098, -1.3862943611198906, -1.6094379124341003, -1.791759469228055, -1.9459101490553135, -2.0794415416798357, -2.1972245773362196, -2.3025850929940455, -2.3978952727983707, -2.4849066497880004, -2.5649493574615367, -2.639057329615259, -2.70805020110221, -2.772588722239781, -2.833213344056216, -2.890371757896165], \"y\": [-10.686615513385918, -10.870506826335161, -11.04068969177321, -11.200549120056715, -11.352601451472676, -11.497860641872249, -11.634953870659784, -11.768661251969185, -11.900103671563766, -12.030301701799736, -12.160226789841634, -12.290846672263855, -12.42317048080332, -12.558298951877926, -12.556209373826961, -12.485728801142189, -12.425200083899698, -12.372548845485332, -12.326258528079489, -12.28519040374789, -12.248470216164733, -12.215156354355933, -12.179865920446485, -12.14796722457762, -12.118977559252546, -12.09250391503397, -12.068222672067504, -12.045864653787687, -12.025203940709229, -12.006049372150475, -11.988238002772464, -11.971630002891368, -11.956104640105487, -11.941557081090007, -11.927895822727063, -11.915040611281942, -11.902920743714871, -11.891473671002272, -11.880643842002566, -11.870381740541376, -11.860643078684667, -11.851388117247874, -11.842581090495178]}, {\"mode\": \"lines\", \"name\": \"\\u041c\\u0435\\u0442\\u043e\\u0434 \\u043f\\u0435\\u0440\\u0435\\u043c\\u0435\\u043d\\u043d\\u044b\\u0445 \\u043d\\u0430\\u043f\\u0440\\u0430\\u0432\\u043b\\u0435\\u043d\\u0438\\u0439\", \"showlegend\": true, \"text\": \"(x, y)\", \"type\": \"scatter\", \"x\": [-1.0986122886681098, -1.3862943611198906, -1.6094379124341003, -1.791759469228055, -1.9459101490553135, -2.0794415416798357, -2.1972245773362196, -2.3025850929940455, -2.3978952727983707, -2.4849066497880004, -2.5649493574615367, -2.639057329615259, -2.70805020110221, -2.772588722239781, -2.833213344056216, -2.890371757896165], \"y\": [-10.676782394182661, -10.808341407897267, -10.9245875969834, -11.028914040196465, -11.123579508253718, -11.210203886328692, -11.29001709011899, -11.363989256846077, -11.432902904578532, -11.497397791896084, -11.558002223945865, -11.615156437567622, -11.669230533357846, -11.720538332916684, -11.769348125677142, -11.81589104057746, -11.860367607626397, -11.902952939786438, -11.943800860398621, -11.983047220877543, -12.02081259232536, -12.05720446895276, -12.092319087128237, -12.126242938744129, -12.159054039049089, -12.190822995471512, -12.221613913811385, -12.251485170539214, -12.28049007417168, -12.308677434223307, -12.336092052716593, -12.36277515054484, -12.388764738704584, -12.41409594272527, -12.438801287206692, -12.46291094615756, -12.486452963962018, -12.509453451018839, -12.531936757441663, -12.553925627694715, -12.575441338644788, -12.596503823090597, -12.617131780573768]}],                        {\"template\": {\"data\": {\"bar\": [{\"error_x\": {\"color\": \"#2a3f5f\"}, \"error_y\": {\"color\": \"#2a3f5f\"}, \"marker\": {\"line\": {\"color\": \"#E5ECF6\", \"width\": 0.5}}, \"type\": \"bar\"}], \"barpolar\": [{\"marker\": {\"line\": {\"color\": \"#E5ECF6\", \"width\": 0.5}}, \"type\": \"barpolar\"}], \"carpet\": [{\"aaxis\": {\"endlinecolor\": \"#2a3f5f\", \"gridcolor\": \"white\", \"linecolor\": \"white\", \"minorgridcolor\": \"white\", \"startlinecolor\": \"#2a3f5f\"}, \"baxis\": {\"endlinecolor\": \"#2a3f5f\", \"gridcolor\": \"white\", \"linecolor\": \"white\", \"minorgridcolor\": \"white\", \"startlinecolor\": \"#2a3f5f\"}, \"type\": \"carpet\"}], \"choropleth\": [{\"colorbar\": {\"outlinewidth\": 0, \"ticks\": \"\"}, \"type\": \"choropleth\"}], \"contour\": [{\"colorbar\": {\"outlinewidth\": 0, \"ticks\": \"\"}, \"colorscale\": [[0.0, \"#0d0887\"], [0.1111111111111111, \"#46039f\"], [0.2222222222222222, \"#7201a8\"], [0.3333333333333333, \"#9c179e\"], [0.4444444444444444, \"#bd3786\"], [0.5555555555555556, \"#d8576b\"], [0.6666666666666666, \"#ed7953\"], [0.7777777777777778, \"#fb9f3a\"], [0.8888888888888888, \"#fdca26\"], [1.0, \"#f0f921\"]], \"type\": \"contour\"}], \"contourcarpet\": [{\"colorbar\": {\"outlinewidth\": 0, \"ticks\": \"\"}, \"type\": \"contourcarpet\"}], \"heatmap\": [{\"colorbar\": {\"outlinewidth\": 0, \"ticks\": \"\"}, \"colorscale\": [[0.0, \"#0d0887\"], [0.1111111111111111, \"#46039f\"], [0.2222222222222222, \"#7201a8\"], [0.3333333333333333, \"#9c179e\"], [0.4444444444444444, \"#bd3786\"], [0.5555555555555556, \"#d8576b\"], [0.6666666666666666, \"#ed7953\"], [0.7777777777777778, \"#fb9f3a\"], [0.8888888888888888, \"#fdca26\"], [1.0, \"#f0f921\"]], \"type\": \"heatmap\"}], \"heatmapgl\": [{\"colorbar\": {\"outlinewidth\": 0, \"ticks\": \"\"}, \"colorscale\": [[0.0, \"#0d0887\"], [0.1111111111111111, \"#46039f\"], [0.2222222222222222, \"#7201a8\"], [0.3333333333333333, \"#9c179e\"], [0.4444444444444444, \"#bd3786\"], [0.5555555555555556, \"#d8576b\"], [0.6666666666666666, \"#ed7953\"], [0.7777777777777778, \"#fb9f3a\"], [0.8888888888888888, \"#fdca26\"], [1.0, \"#f0f921\"]], \"type\": \"heatmapgl\"}], \"histogram\": [{\"marker\": {\"colorbar\": {\"outlinewidth\": 0, \"ticks\": \"\"}}, \"type\": \"histogram\"}], \"histogram2d\": [{\"colorbar\": {\"outlinewidth\": 0, \"ticks\": \"\"}, \"colorscale\": [[0.0, \"#0d0887\"], [0.1111111111111111, \"#46039f\"], [0.2222222222222222, \"#7201a8\"], [0.3333333333333333, \"#9c179e\"], [0.4444444444444444, \"#bd3786\"], [0.5555555555555556, \"#d8576b\"], [0.6666666666666666, \"#ed7953\"], [0.7777777777777778, \"#fb9f3a\"], [0.8888888888888888, \"#fdca26\"], [1.0, \"#f0f921\"]], \"type\": \"histogram2d\"}], \"histogram2dcontour\": [{\"colorbar\": {\"outlinewidth\": 0, \"ticks\": \"\"}, \"colorscale\": [[0.0, \"#0d0887\"], [0.1111111111111111, \"#46039f\"], [0.2222222222222222, \"#7201a8\"], [0.3333333333333333, \"#9c179e\"], [0.4444444444444444, \"#bd3786\"], [0.5555555555555556, \"#d8576b\"], [0.6666666666666666, \"#ed7953\"], [0.7777777777777778, \"#fb9f3a\"], [0.8888888888888888, \"#fdca26\"], [1.0, \"#f0f921\"]], \"type\": \"histogram2dcontour\"}], \"mesh3d\": [{\"colorbar\": {\"outlinewidth\": 0, \"ticks\": \"\"}, \"type\": \"mesh3d\"}], \"parcoords\": [{\"line\": {\"colorbar\": {\"outlinewidth\": 0, \"ticks\": \"\"}}, \"type\": \"parcoords\"}], \"pie\": [{\"automargin\": true, \"type\": \"pie\"}], \"scatter\": [{\"marker\": {\"colorbar\": {\"outlinewidth\": 0, \"ticks\": \"\"}}, \"type\": \"scatter\"}], \"scatter3d\": [{\"line\": {\"colorbar\": {\"outlinewidth\": 0, \"ticks\": \"\"}}, \"marker\": {\"colorbar\": {\"outlinewidth\": 0, \"ticks\": \"\"}}, \"type\": \"scatter3d\"}], \"scattercarpet\": [{\"marker\": {\"colorbar\": {\"outlinewidth\": 0, \"ticks\": \"\"}}, \"type\": \"scattercarpet\"}], \"scattergeo\": [{\"marker\": {\"colorbar\": {\"outlinewidth\": 0, \"ticks\": \"\"}}, \"type\": \"scattergeo\"}], \"scattergl\": [{\"marker\": {\"colorbar\": {\"outlinewidth\": 0, \"ticks\": \"\"}}, \"type\": \"scattergl\"}], \"scattermapbox\": [{\"marker\": {\"colorbar\": {\"outlinewidth\": 0, \"ticks\": \"\"}}, \"type\": \"scattermapbox\"}], \"scatterpolar\": [{\"marker\": {\"colorbar\": {\"outlinewidth\": 0, \"ticks\": \"\"}}, \"type\": \"scatterpolar\"}], \"scatterpolargl\": [{\"marker\": {\"colorbar\": {\"outlinewidth\": 0, \"ticks\": \"\"}}, \"type\": \"scatterpolargl\"}], \"scatterternary\": [{\"marker\": {\"colorbar\": {\"outlinewidth\": 0, \"ticks\": \"\"}}, \"type\": \"scatterternary\"}], \"surface\": [{\"colorbar\": {\"outlinewidth\": 0, \"ticks\": \"\"}, \"colorscale\": [[0.0, \"#0d0887\"], [0.1111111111111111, \"#46039f\"], [0.2222222222222222, \"#7201a8\"], [0.3333333333333333, \"#9c179e\"], [0.4444444444444444, \"#bd3786\"], [0.5555555555555556, \"#d8576b\"], [0.6666666666666666, \"#ed7953\"], [0.7777777777777778, \"#fb9f3a\"], [0.8888888888888888, \"#fdca26\"], [1.0, \"#f0f921\"]], \"type\": \"surface\"}], \"table\": [{\"cells\": {\"fill\": {\"color\": \"#EBF0F8\"}, \"line\": {\"color\": \"white\"}}, \"header\": {\"fill\": {\"color\": \"#C8D4E3\"}, \"line\": {\"color\": \"white\"}}, \"type\": \"table\"}]}, \"layout\": {\"annotationdefaults\": {\"arrowcolor\": \"#2a3f5f\", \"arrowhead\": 0, \"arrowwidth\": 1}, \"autotypenumbers\": \"strict\", \"coloraxis\": {\"colorbar\": {\"outlinewidth\": 0, \"ticks\": \"\"}}, \"colorscale\": {\"diverging\": [[0, \"#8e0152\"], [0.1, \"#c51b7d\"], [0.2, \"#de77ae\"], [0.3, \"#f1b6da\"], [0.4, \"#fde0ef\"], [0.5, \"#f7f7f7\"], [0.6, \"#e6f5d0\"], [0.7, \"#b8e186\"], [0.8, \"#7fbc41\"], [0.9, \"#4d9221\"], [1, \"#276419\"]], \"sequential\": [[0.0, \"#0d0887\"], [0.1111111111111111, \"#46039f\"], [0.2222222222222222, \"#7201a8\"], [0.3333333333333333, \"#9c179e\"], [0.4444444444444444, \"#bd3786\"], [0.5555555555555556, \"#d8576b\"], [0.6666666666666666, \"#ed7953\"], [0.7777777777777778, \"#fb9f3a\"], [0.8888888888888888, \"#fdca26\"], [1.0, \"#f0f921\"]], \"sequentialminus\": [[0.0, \"#0d0887\"], [0.1111111111111111, \"#46039f\"], [0.2222222222222222, \"#7201a8\"], [0.3333333333333333, \"#9c179e\"], [0.4444444444444444, \"#bd3786\"], [0.5555555555555556, \"#d8576b\"], [0.6666666666666666, \"#ed7953\"], [0.7777777777777778, \"#fb9f3a\"], [0.8888888888888888, \"#fdca26\"], [1.0, \"#f0f921\"]]}, \"colorway\": [\"#636efa\", \"#EF553B\", \"#00cc96\", \"#ab63fa\", \"#FFA15A\", \"#19d3f3\", \"#FF6692\", \"#B6E880\", \"#FF97FF\", \"#FECB52\"], \"font\": {\"color\": \"#2a3f5f\"}, \"geo\": {\"bgcolor\": \"white\", \"lakecolor\": \"white\", \"landcolor\": \"#E5ECF6\", \"showlakes\": true, \"showland\": true, \"subunitcolor\": \"white\"}, \"hoverlabel\": {\"align\": \"left\"}, \"hovermode\": \"closest\", \"mapbox\": {\"style\": \"light\"}, \"paper_bgcolor\": \"white\", \"plot_bgcolor\": \"#E5ECF6\", \"polar\": {\"angularaxis\": {\"gridcolor\": \"white\", \"linecolor\": \"white\", \"ticks\": \"\"}, \"bgcolor\": \"#E5ECF6\", \"radialaxis\": {\"gridcolor\": \"white\", \"linecolor\": \"white\", \"ticks\": \"\"}}, \"scene\": {\"xaxis\": {\"backgroundcolor\": \"#E5ECF6\", \"gridcolor\": \"white\", \"gridwidth\": 2, \"linecolor\": \"white\", \"showbackground\": true, \"ticks\": \"\", \"zerolinecolor\": \"white\"}, \"yaxis\": {\"backgroundcolor\": \"#E5ECF6\", \"gridcolor\": \"white\", \"gridwidth\": 2, \"linecolor\": \"white\", \"showbackground\": true, \"ticks\": \"\", \"zerolinecolor\": \"white\"}, \"zaxis\": {\"backgroundcolor\": \"#E5ECF6\", \"gridcolor\": \"white\", \"gridwidth\": 2, \"linecolor\": \"white\", \"showbackground\": true, \"ticks\": \"\", \"zerolinecolor\": \"white\"}}, \"shapedefaults\": {\"line\": {\"color\": \"#2a3f5f\"}}, \"ternary\": {\"aaxis\": {\"gridcolor\": \"white\", \"linecolor\": \"white\", \"ticks\": \"\"}, \"baxis\": {\"gridcolor\": \"white\", \"linecolor\": \"white\", \"ticks\": \"\"}, \"bgcolor\": \"#E5ECF6\", \"caxis\": {\"gridcolor\": \"white\", \"linecolor\": \"white\", \"ticks\": \"\"}}, \"title\": {\"x\": 0.05}, \"xaxis\": {\"automargin\": true, \"gridcolor\": \"white\", \"linecolor\": \"white\", \"ticks\": \"\", \"title\": {\"standoff\": 15}, \"zerolinecolor\": \"white\", \"zerolinewidth\": 2}, \"yaxis\": {\"automargin\": true, \"gridcolor\": \"white\", \"linecolor\": \"white\", \"ticks\": \"\", \"title\": {\"standoff\": 15}, \"zerolinecolor\": \"white\", \"zerolinewidth\": 2}}}, \"title\": {\"text\": \"\\u0417\\u0430\\u0432\\u0438\\u0441\\u0438\\u043c\\u043e\\u0441\\u0442\\u044c \\u043f\\u043e\\u0433\\u0440\\u0435\\u0448\\u043d\\u043e\\u0441\\u0442\\u0438 \\u043e\\u0442 \\u0434\\u043b\\u0438\\u043d\\u044b \\u0448\\u0430\\u0433\\u0430 \\u043f\\u043e \\u043a\\u043e\\u043e\\u0440\\u0434\\u0438\\u043d\\u0430\\u0442\\u0435\"}, \"xaxis\": {\"title\": {\"text\": \"$\\\\log{h_x}$\"}}, \"yaxis\": {\"title\": {\"text\": \"$\\\\log{\\\\epsilon}$\"}}},                        {\"responsive\": true}                    ).then(function(){\n",
       "                            \n",
       "var gd = document.getElementById('4c878ac8-f596-4a2b-b764-2cdc1d5ae981');\n",
       "var x = new MutationObserver(function (mutations, observer) {{\n",
       "        var display = window.getComputedStyle(gd).display;\n",
       "        if (!display || display === 'none') {{\n",
       "            console.log([gd, 'removed!']);\n",
       "            Plotly.purge(gd);\n",
       "            observer.disconnect();\n",
       "        }}\n",
       "}});\n",
       "\n",
       "// Listen for the removal of the full notebook cells\n",
       "var notebookContainer = gd.closest('#notebook-container');\n",
       "if (notebookContainer) {{\n",
       "    x.observe(notebookContainer, {childList: true});\n",
       "}}\n",
       "\n",
       "// Listen for the clearing of the current output cell\n",
       "var outputEl = gd.closest('.output');\n",
       "if (outputEl) {{\n",
       "    x.observe(outputEl, {childList: true});\n",
       "}}\n",
       "\n",
       "                        })                };                });            </script>        </div>"
      ]
     },
     "metadata": {},
     "output_type": "display_data"
    }
   ],
   "source": [
    "trace1 = Scatter(\n",
    "    x = h1,\n",
    "    y = e1,\n",
    "    line= dict(width=3),\n",
    "    name = 'Метод дробных шагов',\n",
    "    mode = 'lines',\n",
    "    text = ('(x, y)'),\n",
    "    showlegend = True\n",
    ")\n",
    "\n",
    "trace2 = Scatter(\n",
    "    x = h2,\n",
    "    y = e2,\n",
    "    line= dict(width=3.7),\n",
    "    name = 'Метод переменных направлений',\n",
    "    mode = 'lines',\n",
    "    text = ('(x, y)'),\n",
    "    showlegend = True\n",
    ")\n",
    "\n",
    "data = [trace1, trace2]\n",
    "\n",
    "layout = Layout(\n",
    "    title = 'Зависимость погрешности от длины шага по координате',\n",
    "    xaxis = dict(title = '$h$'),\n",
    "    yaxis = dict(title = '$\\epsilon$'),\n",
    ")\n",
    "\n",
    "fig = Figure(data = data, layout = layout)\n",
    "offline.iplot(fig)\n",
    "\n",
    "trace1 = Scatter(\n",
    "    x = list(map(math.log, h1)),\n",
    "    y = list(map(math.log, e1)),\n",
    "    name = 'Метод дробных шагов',\n",
    "    mode = 'lines',\n",
    "    text = ('(x, y)'),\n",
    "    showlegend = True\n",
    ")\n",
    "\n",
    "trace2 = Scatter(\n",
    "    x = list(map(math.log, h2)),\n",
    "    y = list(map(math.log, e2)),\n",
    "    name = 'Метод переменных направлений',\n",
    "    mode = 'lines',\n",
    "    text = ('(x, y)'),\n",
    "    showlegend = True\n",
    ")\n",
    "\n",
    "data = [trace1, trace2]\n",
    "\n",
    "layout = Layout(\n",
    "    title = 'Зависимость погрешности от длины шага по координате',\n",
    "    xaxis = dict(title = '$\\log{h}$'),\n",
    "    yaxis = dict(title = '$\\log{\\epsilon}$')\n",
    ")\n",
    "\n",
    "fig = Figure(data = data, layout = layout)\n",
    "offline.iplot(fig)"
   ]
  },
  {
   "cell_type": "markdown",
   "metadata": {},
   "source": [
    "#### Построение зависимости погрешности от $\\tau$"
   ]
  },
  {
   "cell_type": "code",
   "execution_count": 15,
   "metadata": {},
   "outputs": [],
   "source": [
    "def GetGraphicTau(solver):\n",
    "    tau = []\n",
    "    e = []\n",
    "    for K in range(15, 100, 2):\n",
    "        x, y, t, z = solver(Nx = 10, Ny = 10, K = K)\n",
    "        tau.append(solver.tau)\n",
    "        time = K // 2\n",
    "        e.append(Error(x, y, t[time], z[time]))\n",
    "    return tau, e"
   ]
  },
  {
   "cell_type": "markdown",
   "metadata": {},
   "source": [
    "Зависимость погрешности от длины шага по времени при фиксированных шагах по координатам в методе дробных шагов и переменных направлений:"
   ]
  },
  {
   "cell_type": "code",
   "execution_count": 16,
   "metadata": {},
   "outputs": [],
   "source": [
    "tau1, e1 = GetGraphicTau(first)\n",
    "tau2, e2 = GetGraphicTau(second)"
   ]
  },
  {
   "cell_type": "code",
   "execution_count": 30,
   "metadata": {},
   "outputs": [
    {
     "data": {
      "application/vnd.plotly.v1+json": {
       "config": {
        "linkText": "Export to plot.ly",
        "plotlyServerURL": "https://plot.ly",
        "showLink": false
       },
       "data": [
        {
         "line": {
          "width": 3
         },
         "mode": "lines",
         "name": "Метод дробных шагов",
         "showlegend": true,
         "text": "(x, y)",
         "type": "scatter",
         "x": [
          0.4487989505128276,
          0.39269908169872414,
          0.3490658503988659,
          0.3141592653589793,
          0.28559933214452665,
          0.2617993877991494,
          0.241660973353061,
          0.2243994752564138,
          0.20943951023931953,
          0.19634954084936207,
          0.18479956785822313,
          0.17453292519943295,
          0.16534698176788384,
          0.15707963267948966,
          0.14959965017094254,
          0.14279966607226333,
          0.13659098493868665,
          0.1308996938995747,
          0.12566370614359174,
          0.1208304866765305,
          0.11635528346628864,
          0.1121997376282069,
          0.10833078115826873,
          0.10471975511965977,
          0.10134169850289655,
          0.09817477042468103,
          0.09519977738150888,
          0.09239978392911156,
          0.08975979010256552,
          0.08726646259971647,
          0.08490790955648089,
          0.08267349088394192,
          0.08055365778435367,
          0.07853981633974483,
          0.07662421106316569,
          0.07479982508547127,
          0.07306029426953008,
          0.07139983303613166,
          0.06981317007977318,
          0.06829549246934333,
          0.06684239688488922,
          0.06544984694978735,
          0.0641141357875468
         ],
         "y": [
          2.2848718773312847e-05,
          1.9010733327342043e-05,
          1.6035754192627592e-05,
          1.3666689351594097e-05,
          1.173891165960561e-05,
          1.015178869522182e-05,
          8.851232256099629e-06,
          7.743465341882859e-06,
          6.7897008719841615e-06,
          5.960824772582862e-06,
          5.234565114158318e-06,
          4.593599335378506e-06,
          4.024256113068781e-06,
          3.5156049161411126e-06,
          3.5229587275154016e-06,
          3.7802182906832014e-06,
          4.016096753332865e-06,
          4.233214834181154e-06,
          4.433777945034856e-06,
          4.619655587785321e-06,
          4.79244318937977e-06,
          4.954787117092962e-06,
          5.132765704119468e-06,
          5.2991335888169515e-06,
          5.455002069773007e-06,
          5.601344414413179e-06,
          5.739016681980402e-06,
          5.868774884739137e-06,
          5.991289217432971e-06,
          6.107155923305574e-06,
          6.216907242458935e-06,
          6.321019794765515e-06,
          6.4199216774851744e-06,
          6.513998501911923e-06,
          6.603598549622669e-06,
          6.689037194596015e-06,
          6.770600710641061e-06,
          6.848549561193629e-06,
          6.923121252324083e-06,
          6.994532814693643e-06,
          7.062982970088006e-06,
          7.128654027908632e-06,
          7.191713550500634e-06
         ]
        },
        {
         "line": {
          "width": 3.7
         },
         "mode": "lines",
         "name": "Метод переменных направлений",
         "showlegend": true,
         "text": "(x, y)",
         "type": "scatter",
         "x": [
          0.4487989505128276,
          0.39269908169872414,
          0.3490658503988659,
          0.3141592653589793,
          0.28559933214452665,
          0.2617993877991494,
          0.241660973353061,
          0.2243994752564138,
          0.20943951023931953,
          0.19634954084936207,
          0.18479956785822313,
          0.17453292519943295,
          0.16534698176788384,
          0.15707963267948966,
          0.14959965017094254,
          0.14279966607226333,
          0.13659098493868665,
          0.1308996938995747,
          0.12566370614359174,
          0.1208304866765305,
          0.11635528346628864,
          0.1121997376282069,
          0.10833078115826873,
          0.10471975511965977,
          0.10134169850289655,
          0.09817477042468103,
          0.09519977738150888,
          0.09239978392911156,
          0.08975979010256552,
          0.08726646259971647,
          0.08490790955648089,
          0.08267349088394192,
          0.08055365778435367,
          0.07853981633974483,
          0.07662421106316569,
          0.07479982508547127,
          0.07306029426953008,
          0.07139983303613166,
          0.06981317007977318,
          0.06829549246934333,
          0.06684239688488922,
          0.06544984694978735,
          0.0641141357875468
         ],
         "y": [
          2.3074501202177688e-05,
          2.0230050552554335e-05,
          1.8009924390450795e-05,
          1.6225701830436257e-05,
          1.4760151003516685e-05,
          1.3535375582096609e-05,
          1.2497060639860559e-05,
          1.1605989500634294e-05,
          1.0833115073312083e-05,
          1.015648853795459e-05,
          9.559241032619514e-06,
          9.028210006735149e-06,
          8.552982261162967e-06,
          8.125215289610521e-06,
          7.738148385378896e-06,
          7.386245226335131e-06,
          7.064928885490707e-06,
          6.770382727405155e-06,
          6.499398912110933e-06,
          6.249261751969381e-06,
          6.01765690814049e-06,
          5.802599977037248e-06,
          5.602379794851231e-06,
          5.415513034726094e-06,
          5.2407075556171195e-06,
          5.076832596440095e-06,
          4.922894370177344e-06,
          4.778015951482084e-06,
          4.6414206028772e-06,
          4.5124178736172246e-06,
          4.3903919486210085e-06,
          4.274791834074643e-06,
          4.165123051081965e-06,
          4.060940573932803e-06,
          3.961842800789261e-06,
          3.8674663851573365e-06,
          3.7774817881025548e-06,
          3.6915894366351677e-06,
          3.60951639411744e-06,
          3.5310134648702805e-06,
          3.4558526682537673e-06,
          3.383825028474563e-06,
          3.3147386349940965e-06
         ]
        }
       ],
       "layout": {
        "template": {
         "data": {
          "bar": [
           {
            "error_x": {
             "color": "#2a3f5f"
            },
            "error_y": {
             "color": "#2a3f5f"
            },
            "marker": {
             "line": {
              "color": "#E5ECF6",
              "width": 0.5
             }
            },
            "type": "bar"
           }
          ],
          "barpolar": [
           {
            "marker": {
             "line": {
              "color": "#E5ECF6",
              "width": 0.5
             }
            },
            "type": "barpolar"
           }
          ],
          "carpet": [
           {
            "aaxis": {
             "endlinecolor": "#2a3f5f",
             "gridcolor": "white",
             "linecolor": "white",
             "minorgridcolor": "white",
             "startlinecolor": "#2a3f5f"
            },
            "baxis": {
             "endlinecolor": "#2a3f5f",
             "gridcolor": "white",
             "linecolor": "white",
             "minorgridcolor": "white",
             "startlinecolor": "#2a3f5f"
            },
            "type": "carpet"
           }
          ],
          "choropleth": [
           {
            "colorbar": {
             "outlinewidth": 0,
             "ticks": ""
            },
            "type": "choropleth"
           }
          ],
          "contour": [
           {
            "colorbar": {
             "outlinewidth": 0,
             "ticks": ""
            },
            "colorscale": [
             [
              0,
              "#0d0887"
             ],
             [
              0.1111111111111111,
              "#46039f"
             ],
             [
              0.2222222222222222,
              "#7201a8"
             ],
             [
              0.3333333333333333,
              "#9c179e"
             ],
             [
              0.4444444444444444,
              "#bd3786"
             ],
             [
              0.5555555555555556,
              "#d8576b"
             ],
             [
              0.6666666666666666,
              "#ed7953"
             ],
             [
              0.7777777777777778,
              "#fb9f3a"
             ],
             [
              0.8888888888888888,
              "#fdca26"
             ],
             [
              1,
              "#f0f921"
             ]
            ],
            "type": "contour"
           }
          ],
          "contourcarpet": [
           {
            "colorbar": {
             "outlinewidth": 0,
             "ticks": ""
            },
            "type": "contourcarpet"
           }
          ],
          "heatmap": [
           {
            "colorbar": {
             "outlinewidth": 0,
             "ticks": ""
            },
            "colorscale": [
             [
              0,
              "#0d0887"
             ],
             [
              0.1111111111111111,
              "#46039f"
             ],
             [
              0.2222222222222222,
              "#7201a8"
             ],
             [
              0.3333333333333333,
              "#9c179e"
             ],
             [
              0.4444444444444444,
              "#bd3786"
             ],
             [
              0.5555555555555556,
              "#d8576b"
             ],
             [
              0.6666666666666666,
              "#ed7953"
             ],
             [
              0.7777777777777778,
              "#fb9f3a"
             ],
             [
              0.8888888888888888,
              "#fdca26"
             ],
             [
              1,
              "#f0f921"
             ]
            ],
            "type": "heatmap"
           }
          ],
          "heatmapgl": [
           {
            "colorbar": {
             "outlinewidth": 0,
             "ticks": ""
            },
            "colorscale": [
             [
              0,
              "#0d0887"
             ],
             [
              0.1111111111111111,
              "#46039f"
             ],
             [
              0.2222222222222222,
              "#7201a8"
             ],
             [
              0.3333333333333333,
              "#9c179e"
             ],
             [
              0.4444444444444444,
              "#bd3786"
             ],
             [
              0.5555555555555556,
              "#d8576b"
             ],
             [
              0.6666666666666666,
              "#ed7953"
             ],
             [
              0.7777777777777778,
              "#fb9f3a"
             ],
             [
              0.8888888888888888,
              "#fdca26"
             ],
             [
              1,
              "#f0f921"
             ]
            ],
            "type": "heatmapgl"
           }
          ],
          "histogram": [
           {
            "marker": {
             "colorbar": {
              "outlinewidth": 0,
              "ticks": ""
             }
            },
            "type": "histogram"
           }
          ],
          "histogram2d": [
           {
            "colorbar": {
             "outlinewidth": 0,
             "ticks": ""
            },
            "colorscale": [
             [
              0,
              "#0d0887"
             ],
             [
              0.1111111111111111,
              "#46039f"
             ],
             [
              0.2222222222222222,
              "#7201a8"
             ],
             [
              0.3333333333333333,
              "#9c179e"
             ],
             [
              0.4444444444444444,
              "#bd3786"
             ],
             [
              0.5555555555555556,
              "#d8576b"
             ],
             [
              0.6666666666666666,
              "#ed7953"
             ],
             [
              0.7777777777777778,
              "#fb9f3a"
             ],
             [
              0.8888888888888888,
              "#fdca26"
             ],
             [
              1,
              "#f0f921"
             ]
            ],
            "type": "histogram2d"
           }
          ],
          "histogram2dcontour": [
           {
            "colorbar": {
             "outlinewidth": 0,
             "ticks": ""
            },
            "colorscale": [
             [
              0,
              "#0d0887"
             ],
             [
              0.1111111111111111,
              "#46039f"
             ],
             [
              0.2222222222222222,
              "#7201a8"
             ],
             [
              0.3333333333333333,
              "#9c179e"
             ],
             [
              0.4444444444444444,
              "#bd3786"
             ],
             [
              0.5555555555555556,
              "#d8576b"
             ],
             [
              0.6666666666666666,
              "#ed7953"
             ],
             [
              0.7777777777777778,
              "#fb9f3a"
             ],
             [
              0.8888888888888888,
              "#fdca26"
             ],
             [
              1,
              "#f0f921"
             ]
            ],
            "type": "histogram2dcontour"
           }
          ],
          "mesh3d": [
           {
            "colorbar": {
             "outlinewidth": 0,
             "ticks": ""
            },
            "type": "mesh3d"
           }
          ],
          "parcoords": [
           {
            "line": {
             "colorbar": {
              "outlinewidth": 0,
              "ticks": ""
             }
            },
            "type": "parcoords"
           }
          ],
          "pie": [
           {
            "automargin": true,
            "type": "pie"
           }
          ],
          "scatter": [
           {
            "marker": {
             "colorbar": {
              "outlinewidth": 0,
              "ticks": ""
             }
            },
            "type": "scatter"
           }
          ],
          "scatter3d": [
           {
            "line": {
             "colorbar": {
              "outlinewidth": 0,
              "ticks": ""
             }
            },
            "marker": {
             "colorbar": {
              "outlinewidth": 0,
              "ticks": ""
             }
            },
            "type": "scatter3d"
           }
          ],
          "scattercarpet": [
           {
            "marker": {
             "colorbar": {
              "outlinewidth": 0,
              "ticks": ""
             }
            },
            "type": "scattercarpet"
           }
          ],
          "scattergeo": [
           {
            "marker": {
             "colorbar": {
              "outlinewidth": 0,
              "ticks": ""
             }
            },
            "type": "scattergeo"
           }
          ],
          "scattergl": [
           {
            "marker": {
             "colorbar": {
              "outlinewidth": 0,
              "ticks": ""
             }
            },
            "type": "scattergl"
           }
          ],
          "scattermapbox": [
           {
            "marker": {
             "colorbar": {
              "outlinewidth": 0,
              "ticks": ""
             }
            },
            "type": "scattermapbox"
           }
          ],
          "scatterpolar": [
           {
            "marker": {
             "colorbar": {
              "outlinewidth": 0,
              "ticks": ""
             }
            },
            "type": "scatterpolar"
           }
          ],
          "scatterpolargl": [
           {
            "marker": {
             "colorbar": {
              "outlinewidth": 0,
              "ticks": ""
             }
            },
            "type": "scatterpolargl"
           }
          ],
          "scatterternary": [
           {
            "marker": {
             "colorbar": {
              "outlinewidth": 0,
              "ticks": ""
             }
            },
            "type": "scatterternary"
           }
          ],
          "surface": [
           {
            "colorbar": {
             "outlinewidth": 0,
             "ticks": ""
            },
            "colorscale": [
             [
              0,
              "#0d0887"
             ],
             [
              0.1111111111111111,
              "#46039f"
             ],
             [
              0.2222222222222222,
              "#7201a8"
             ],
             [
              0.3333333333333333,
              "#9c179e"
             ],
             [
              0.4444444444444444,
              "#bd3786"
             ],
             [
              0.5555555555555556,
              "#d8576b"
             ],
             [
              0.6666666666666666,
              "#ed7953"
             ],
             [
              0.7777777777777778,
              "#fb9f3a"
             ],
             [
              0.8888888888888888,
              "#fdca26"
             ],
             [
              1,
              "#f0f921"
             ]
            ],
            "type": "surface"
           }
          ],
          "table": [
           {
            "cells": {
             "fill": {
              "color": "#EBF0F8"
             },
             "line": {
              "color": "white"
             }
            },
            "header": {
             "fill": {
              "color": "#C8D4E3"
             },
             "line": {
              "color": "white"
             }
            },
            "type": "table"
           }
          ]
         },
         "layout": {
          "annotationdefaults": {
           "arrowcolor": "#2a3f5f",
           "arrowhead": 0,
           "arrowwidth": 1
          },
          "autotypenumbers": "strict",
          "coloraxis": {
           "colorbar": {
            "outlinewidth": 0,
            "ticks": ""
           }
          },
          "colorscale": {
           "diverging": [
            [
             0,
             "#8e0152"
            ],
            [
             0.1,
             "#c51b7d"
            ],
            [
             0.2,
             "#de77ae"
            ],
            [
             0.3,
             "#f1b6da"
            ],
            [
             0.4,
             "#fde0ef"
            ],
            [
             0.5,
             "#f7f7f7"
            ],
            [
             0.6,
             "#e6f5d0"
            ],
            [
             0.7,
             "#b8e186"
            ],
            [
             0.8,
             "#7fbc41"
            ],
            [
             0.9,
             "#4d9221"
            ],
            [
             1,
             "#276419"
            ]
           ],
           "sequential": [
            [
             0,
             "#0d0887"
            ],
            [
             0.1111111111111111,
             "#46039f"
            ],
            [
             0.2222222222222222,
             "#7201a8"
            ],
            [
             0.3333333333333333,
             "#9c179e"
            ],
            [
             0.4444444444444444,
             "#bd3786"
            ],
            [
             0.5555555555555556,
             "#d8576b"
            ],
            [
             0.6666666666666666,
             "#ed7953"
            ],
            [
             0.7777777777777778,
             "#fb9f3a"
            ],
            [
             0.8888888888888888,
             "#fdca26"
            ],
            [
             1,
             "#f0f921"
            ]
           ],
           "sequentialminus": [
            [
             0,
             "#0d0887"
            ],
            [
             0.1111111111111111,
             "#46039f"
            ],
            [
             0.2222222222222222,
             "#7201a8"
            ],
            [
             0.3333333333333333,
             "#9c179e"
            ],
            [
             0.4444444444444444,
             "#bd3786"
            ],
            [
             0.5555555555555556,
             "#d8576b"
            ],
            [
             0.6666666666666666,
             "#ed7953"
            ],
            [
             0.7777777777777778,
             "#fb9f3a"
            ],
            [
             0.8888888888888888,
             "#fdca26"
            ],
            [
             1,
             "#f0f921"
            ]
           ]
          },
          "colorway": [
           "#636efa",
           "#EF553B",
           "#00cc96",
           "#ab63fa",
           "#FFA15A",
           "#19d3f3",
           "#FF6692",
           "#B6E880",
           "#FF97FF",
           "#FECB52"
          ],
          "font": {
           "color": "#2a3f5f"
          },
          "geo": {
           "bgcolor": "white",
           "lakecolor": "white",
           "landcolor": "#E5ECF6",
           "showlakes": true,
           "showland": true,
           "subunitcolor": "white"
          },
          "hoverlabel": {
           "align": "left"
          },
          "hovermode": "closest",
          "mapbox": {
           "style": "light"
          },
          "paper_bgcolor": "white",
          "plot_bgcolor": "#E5ECF6",
          "polar": {
           "angularaxis": {
            "gridcolor": "white",
            "linecolor": "white",
            "ticks": ""
           },
           "bgcolor": "#E5ECF6",
           "radialaxis": {
            "gridcolor": "white",
            "linecolor": "white",
            "ticks": ""
           }
          },
          "scene": {
           "xaxis": {
            "backgroundcolor": "#E5ECF6",
            "gridcolor": "white",
            "gridwidth": 2,
            "linecolor": "white",
            "showbackground": true,
            "ticks": "",
            "zerolinecolor": "white"
           },
           "yaxis": {
            "backgroundcolor": "#E5ECF6",
            "gridcolor": "white",
            "gridwidth": 2,
            "linecolor": "white",
            "showbackground": true,
            "ticks": "",
            "zerolinecolor": "white"
           },
           "zaxis": {
            "backgroundcolor": "#E5ECF6",
            "gridcolor": "white",
            "gridwidth": 2,
            "linecolor": "white",
            "showbackground": true,
            "ticks": "",
            "zerolinecolor": "white"
           }
          },
          "shapedefaults": {
           "line": {
            "color": "#2a3f5f"
           }
          },
          "ternary": {
           "aaxis": {
            "gridcolor": "white",
            "linecolor": "white",
            "ticks": ""
           },
           "baxis": {
            "gridcolor": "white",
            "linecolor": "white",
            "ticks": ""
           },
           "bgcolor": "#E5ECF6",
           "caxis": {
            "gridcolor": "white",
            "linecolor": "white",
            "ticks": ""
           }
          },
          "title": {
           "x": 0.05
          },
          "xaxis": {
           "automargin": true,
           "gridcolor": "white",
           "linecolor": "white",
           "ticks": "",
           "title": {
            "standoff": 15
           },
           "zerolinecolor": "white",
           "zerolinewidth": 2
          },
          "yaxis": {
           "automargin": true,
           "gridcolor": "white",
           "linecolor": "white",
           "ticks": "",
           "title": {
            "standoff": 15
           },
           "zerolinecolor": "white",
           "zerolinewidth": 2
          }
         }
        },
        "title": {
         "text": "Зависимость погрешности от длины шага по времени"
        },
        "xaxis": {
         "title": {
          "text": "$h_x$"
         }
        },
        "yaxis": {
         "title": {
          "text": "$\\epsilon$"
         }
        }
       }
      },
      "text/html": [
       "<div>                            <div id=\"e615207d-22ed-438e-9d22-be5aed67a769\" class=\"plotly-graph-div\" style=\"height:525px; width:100%;\"></div>            <script type=\"text/javascript\">                require([\"plotly\"], function(Plotly) {                    window.PLOTLYENV=window.PLOTLYENV || {};                                    if (document.getElementById(\"e615207d-22ed-438e-9d22-be5aed67a769\")) {                    Plotly.newPlot(                        \"e615207d-22ed-438e-9d22-be5aed67a769\",                        [{\"line\": {\"width\": 3}, \"mode\": \"lines\", \"name\": \"\\u041c\\u0435\\u0442\\u043e\\u0434 \\u0434\\u0440\\u043e\\u0431\\u043d\\u044b\\u0445 \\u0448\\u0430\\u0433\\u043e\\u0432\", \"showlegend\": true, \"text\": \"(x, y)\", \"type\": \"scatter\", \"x\": [0.4487989505128276, 0.39269908169872414, 0.3490658503988659, 0.3141592653589793, 0.28559933214452665, 0.2617993877991494, 0.241660973353061, 0.2243994752564138, 0.20943951023931953, 0.19634954084936207, 0.18479956785822313, 0.17453292519943295, 0.16534698176788384, 0.15707963267948966, 0.14959965017094254, 0.14279966607226333, 0.13659098493868665, 0.1308996938995747, 0.12566370614359174, 0.1208304866765305, 0.11635528346628864, 0.1121997376282069, 0.10833078115826873, 0.10471975511965977, 0.10134169850289655, 0.09817477042468103, 0.09519977738150888, 0.09239978392911156, 0.08975979010256552, 0.08726646259971647, 0.08490790955648089, 0.08267349088394192, 0.08055365778435367, 0.07853981633974483, 0.07662421106316569, 0.07479982508547127, 0.07306029426953008, 0.07139983303613166, 0.06981317007977318, 0.06829549246934333, 0.06684239688488922, 0.06544984694978735, 0.0641141357875468], \"y\": [2.2848718773312847e-05, 1.9010733327342043e-05, 1.6035754192627592e-05, 1.3666689351594097e-05, 1.173891165960561e-05, 1.015178869522182e-05, 8.851232256099629e-06, 7.743465341882859e-06, 6.7897008719841615e-06, 5.960824772582862e-06, 5.234565114158318e-06, 4.593599335378506e-06, 4.024256113068781e-06, 3.5156049161411126e-06, 3.5229587275154016e-06, 3.7802182906832014e-06, 4.016096753332865e-06, 4.233214834181154e-06, 4.433777945034856e-06, 4.619655587785321e-06, 4.79244318937977e-06, 4.954787117092962e-06, 5.132765704119468e-06, 5.2991335888169515e-06, 5.455002069773007e-06, 5.601344414413179e-06, 5.739016681980402e-06, 5.868774884739137e-06, 5.991289217432971e-06, 6.107155923305574e-06, 6.216907242458935e-06, 6.321019794765515e-06, 6.4199216774851744e-06, 6.513998501911923e-06, 6.603598549622669e-06, 6.689037194596015e-06, 6.770600710641061e-06, 6.848549561193629e-06, 6.923121252324083e-06, 6.994532814693643e-06, 7.062982970088006e-06, 7.128654027908632e-06, 7.191713550500634e-06]}, {\"line\": {\"width\": 3.7}, \"mode\": \"lines\", \"name\": \"\\u041c\\u0435\\u0442\\u043e\\u0434 \\u043f\\u0435\\u0440\\u0435\\u043c\\u0435\\u043d\\u043d\\u044b\\u0445 \\u043d\\u0430\\u043f\\u0440\\u0430\\u0432\\u043b\\u0435\\u043d\\u0438\\u0439\", \"showlegend\": true, \"text\": \"(x, y)\", \"type\": \"scatter\", \"x\": [0.4487989505128276, 0.39269908169872414, 0.3490658503988659, 0.3141592653589793, 0.28559933214452665, 0.2617993877991494, 0.241660973353061, 0.2243994752564138, 0.20943951023931953, 0.19634954084936207, 0.18479956785822313, 0.17453292519943295, 0.16534698176788384, 0.15707963267948966, 0.14959965017094254, 0.14279966607226333, 0.13659098493868665, 0.1308996938995747, 0.12566370614359174, 0.1208304866765305, 0.11635528346628864, 0.1121997376282069, 0.10833078115826873, 0.10471975511965977, 0.10134169850289655, 0.09817477042468103, 0.09519977738150888, 0.09239978392911156, 0.08975979010256552, 0.08726646259971647, 0.08490790955648089, 0.08267349088394192, 0.08055365778435367, 0.07853981633974483, 0.07662421106316569, 0.07479982508547127, 0.07306029426953008, 0.07139983303613166, 0.06981317007977318, 0.06829549246934333, 0.06684239688488922, 0.06544984694978735, 0.0641141357875468], \"y\": [2.3074501202177688e-05, 2.0230050552554335e-05, 1.8009924390450795e-05, 1.6225701830436257e-05, 1.4760151003516685e-05, 1.3535375582096609e-05, 1.2497060639860559e-05, 1.1605989500634294e-05, 1.0833115073312083e-05, 1.015648853795459e-05, 9.559241032619514e-06, 9.028210006735149e-06, 8.552982261162967e-06, 8.125215289610521e-06, 7.738148385378896e-06, 7.386245226335131e-06, 7.064928885490707e-06, 6.770382727405155e-06, 6.499398912110933e-06, 6.249261751969381e-06, 6.01765690814049e-06, 5.802599977037248e-06, 5.602379794851231e-06, 5.415513034726094e-06, 5.2407075556171195e-06, 5.076832596440095e-06, 4.922894370177344e-06, 4.778015951482084e-06, 4.6414206028772e-06, 4.5124178736172246e-06, 4.3903919486210085e-06, 4.274791834074643e-06, 4.165123051081965e-06, 4.060940573932803e-06, 3.961842800789261e-06, 3.8674663851573365e-06, 3.7774817881025548e-06, 3.6915894366351677e-06, 3.60951639411744e-06, 3.5310134648702805e-06, 3.4558526682537673e-06, 3.383825028474563e-06, 3.3147386349940965e-06]}],                        {\"template\": {\"data\": {\"bar\": [{\"error_x\": {\"color\": \"#2a3f5f\"}, \"error_y\": {\"color\": \"#2a3f5f\"}, \"marker\": {\"line\": {\"color\": \"#E5ECF6\", \"width\": 0.5}}, \"type\": \"bar\"}], \"barpolar\": [{\"marker\": {\"line\": {\"color\": \"#E5ECF6\", \"width\": 0.5}}, \"type\": \"barpolar\"}], \"carpet\": [{\"aaxis\": {\"endlinecolor\": \"#2a3f5f\", \"gridcolor\": \"white\", \"linecolor\": \"white\", \"minorgridcolor\": \"white\", \"startlinecolor\": \"#2a3f5f\"}, \"baxis\": {\"endlinecolor\": \"#2a3f5f\", \"gridcolor\": \"white\", \"linecolor\": \"white\", \"minorgridcolor\": \"white\", \"startlinecolor\": \"#2a3f5f\"}, \"type\": \"carpet\"}], \"choropleth\": [{\"colorbar\": {\"outlinewidth\": 0, \"ticks\": \"\"}, \"type\": \"choropleth\"}], \"contour\": [{\"colorbar\": {\"outlinewidth\": 0, \"ticks\": \"\"}, \"colorscale\": [[0.0, \"#0d0887\"], [0.1111111111111111, \"#46039f\"], [0.2222222222222222, \"#7201a8\"], [0.3333333333333333, \"#9c179e\"], [0.4444444444444444, \"#bd3786\"], [0.5555555555555556, \"#d8576b\"], [0.6666666666666666, \"#ed7953\"], [0.7777777777777778, \"#fb9f3a\"], [0.8888888888888888, \"#fdca26\"], [1.0, \"#f0f921\"]], \"type\": \"contour\"}], \"contourcarpet\": [{\"colorbar\": {\"outlinewidth\": 0, \"ticks\": \"\"}, \"type\": \"contourcarpet\"}], \"heatmap\": [{\"colorbar\": {\"outlinewidth\": 0, \"ticks\": \"\"}, \"colorscale\": [[0.0, \"#0d0887\"], [0.1111111111111111, \"#46039f\"], [0.2222222222222222, \"#7201a8\"], [0.3333333333333333, \"#9c179e\"], [0.4444444444444444, \"#bd3786\"], [0.5555555555555556, \"#d8576b\"], [0.6666666666666666, \"#ed7953\"], [0.7777777777777778, \"#fb9f3a\"], [0.8888888888888888, \"#fdca26\"], [1.0, \"#f0f921\"]], \"type\": \"heatmap\"}], \"heatmapgl\": [{\"colorbar\": {\"outlinewidth\": 0, \"ticks\": \"\"}, \"colorscale\": [[0.0, \"#0d0887\"], [0.1111111111111111, \"#46039f\"], [0.2222222222222222, \"#7201a8\"], [0.3333333333333333, \"#9c179e\"], [0.4444444444444444, \"#bd3786\"], [0.5555555555555556, \"#d8576b\"], [0.6666666666666666, \"#ed7953\"], [0.7777777777777778, \"#fb9f3a\"], [0.8888888888888888, \"#fdca26\"], [1.0, \"#f0f921\"]], \"type\": \"heatmapgl\"}], \"histogram\": [{\"marker\": {\"colorbar\": {\"outlinewidth\": 0, \"ticks\": \"\"}}, \"type\": \"histogram\"}], \"histogram2d\": [{\"colorbar\": {\"outlinewidth\": 0, \"ticks\": \"\"}, \"colorscale\": [[0.0, \"#0d0887\"], [0.1111111111111111, \"#46039f\"], [0.2222222222222222, \"#7201a8\"], [0.3333333333333333, \"#9c179e\"], [0.4444444444444444, \"#bd3786\"], [0.5555555555555556, \"#d8576b\"], [0.6666666666666666, \"#ed7953\"], [0.7777777777777778, \"#fb9f3a\"], [0.8888888888888888, \"#fdca26\"], [1.0, \"#f0f921\"]], \"type\": \"histogram2d\"}], \"histogram2dcontour\": [{\"colorbar\": {\"outlinewidth\": 0, \"ticks\": \"\"}, \"colorscale\": [[0.0, \"#0d0887\"], [0.1111111111111111, \"#46039f\"], [0.2222222222222222, \"#7201a8\"], [0.3333333333333333, \"#9c179e\"], [0.4444444444444444, \"#bd3786\"], [0.5555555555555556, \"#d8576b\"], [0.6666666666666666, \"#ed7953\"], [0.7777777777777778, \"#fb9f3a\"], [0.8888888888888888, \"#fdca26\"], [1.0, \"#f0f921\"]], \"type\": \"histogram2dcontour\"}], \"mesh3d\": [{\"colorbar\": {\"outlinewidth\": 0, \"ticks\": \"\"}, \"type\": \"mesh3d\"}], \"parcoords\": [{\"line\": {\"colorbar\": {\"outlinewidth\": 0, \"ticks\": \"\"}}, \"type\": \"parcoords\"}], \"pie\": [{\"automargin\": true, \"type\": \"pie\"}], \"scatter\": [{\"marker\": {\"colorbar\": {\"outlinewidth\": 0, \"ticks\": \"\"}}, \"type\": \"scatter\"}], \"scatter3d\": [{\"line\": {\"colorbar\": {\"outlinewidth\": 0, \"ticks\": \"\"}}, \"marker\": {\"colorbar\": {\"outlinewidth\": 0, \"ticks\": \"\"}}, \"type\": \"scatter3d\"}], \"scattercarpet\": [{\"marker\": {\"colorbar\": {\"outlinewidth\": 0, \"ticks\": \"\"}}, \"type\": \"scattercarpet\"}], \"scattergeo\": [{\"marker\": {\"colorbar\": {\"outlinewidth\": 0, \"ticks\": \"\"}}, \"type\": \"scattergeo\"}], \"scattergl\": [{\"marker\": {\"colorbar\": {\"outlinewidth\": 0, \"ticks\": \"\"}}, \"type\": \"scattergl\"}], \"scattermapbox\": [{\"marker\": {\"colorbar\": {\"outlinewidth\": 0, \"ticks\": \"\"}}, \"type\": \"scattermapbox\"}], \"scatterpolar\": [{\"marker\": {\"colorbar\": {\"outlinewidth\": 0, \"ticks\": \"\"}}, \"type\": \"scatterpolar\"}], \"scatterpolargl\": [{\"marker\": {\"colorbar\": {\"outlinewidth\": 0, \"ticks\": \"\"}}, \"type\": \"scatterpolargl\"}], \"scatterternary\": [{\"marker\": {\"colorbar\": {\"outlinewidth\": 0, \"ticks\": \"\"}}, \"type\": \"scatterternary\"}], \"surface\": [{\"colorbar\": {\"outlinewidth\": 0, \"ticks\": \"\"}, \"colorscale\": [[0.0, \"#0d0887\"], [0.1111111111111111, \"#46039f\"], [0.2222222222222222, \"#7201a8\"], [0.3333333333333333, \"#9c179e\"], [0.4444444444444444, \"#bd3786\"], [0.5555555555555556, \"#d8576b\"], [0.6666666666666666, \"#ed7953\"], [0.7777777777777778, \"#fb9f3a\"], [0.8888888888888888, \"#fdca26\"], [1.0, \"#f0f921\"]], \"type\": \"surface\"}], \"table\": [{\"cells\": {\"fill\": {\"color\": \"#EBF0F8\"}, \"line\": {\"color\": \"white\"}}, \"header\": {\"fill\": {\"color\": \"#C8D4E3\"}, \"line\": {\"color\": \"white\"}}, \"type\": \"table\"}]}, \"layout\": {\"annotationdefaults\": {\"arrowcolor\": \"#2a3f5f\", \"arrowhead\": 0, \"arrowwidth\": 1}, \"autotypenumbers\": \"strict\", \"coloraxis\": {\"colorbar\": {\"outlinewidth\": 0, \"ticks\": \"\"}}, \"colorscale\": {\"diverging\": [[0, \"#8e0152\"], [0.1, \"#c51b7d\"], [0.2, \"#de77ae\"], [0.3, \"#f1b6da\"], [0.4, \"#fde0ef\"], [0.5, \"#f7f7f7\"], [0.6, \"#e6f5d0\"], [0.7, \"#b8e186\"], [0.8, \"#7fbc41\"], [0.9, \"#4d9221\"], [1, \"#276419\"]], \"sequential\": [[0.0, \"#0d0887\"], [0.1111111111111111, \"#46039f\"], [0.2222222222222222, \"#7201a8\"], [0.3333333333333333, \"#9c179e\"], [0.4444444444444444, \"#bd3786\"], [0.5555555555555556, \"#d8576b\"], [0.6666666666666666, \"#ed7953\"], [0.7777777777777778, \"#fb9f3a\"], [0.8888888888888888, \"#fdca26\"], [1.0, \"#f0f921\"]], \"sequentialminus\": [[0.0, \"#0d0887\"], [0.1111111111111111, \"#46039f\"], [0.2222222222222222, \"#7201a8\"], [0.3333333333333333, \"#9c179e\"], [0.4444444444444444, \"#bd3786\"], [0.5555555555555556, \"#d8576b\"], [0.6666666666666666, \"#ed7953\"], [0.7777777777777778, \"#fb9f3a\"], [0.8888888888888888, \"#fdca26\"], [1.0, \"#f0f921\"]]}, \"colorway\": [\"#636efa\", \"#EF553B\", \"#00cc96\", \"#ab63fa\", \"#FFA15A\", \"#19d3f3\", \"#FF6692\", \"#B6E880\", \"#FF97FF\", \"#FECB52\"], \"font\": {\"color\": \"#2a3f5f\"}, \"geo\": {\"bgcolor\": \"white\", \"lakecolor\": \"white\", \"landcolor\": \"#E5ECF6\", \"showlakes\": true, \"showland\": true, \"subunitcolor\": \"white\"}, \"hoverlabel\": {\"align\": \"left\"}, \"hovermode\": \"closest\", \"mapbox\": {\"style\": \"light\"}, \"paper_bgcolor\": \"white\", \"plot_bgcolor\": \"#E5ECF6\", \"polar\": {\"angularaxis\": {\"gridcolor\": \"white\", \"linecolor\": \"white\", \"ticks\": \"\"}, \"bgcolor\": \"#E5ECF6\", \"radialaxis\": {\"gridcolor\": \"white\", \"linecolor\": \"white\", \"ticks\": \"\"}}, \"scene\": {\"xaxis\": {\"backgroundcolor\": \"#E5ECF6\", \"gridcolor\": \"white\", \"gridwidth\": 2, \"linecolor\": \"white\", \"showbackground\": true, \"ticks\": \"\", \"zerolinecolor\": \"white\"}, \"yaxis\": {\"backgroundcolor\": \"#E5ECF6\", \"gridcolor\": \"white\", \"gridwidth\": 2, \"linecolor\": \"white\", \"showbackground\": true, \"ticks\": \"\", \"zerolinecolor\": \"white\"}, \"zaxis\": {\"backgroundcolor\": \"#E5ECF6\", \"gridcolor\": \"white\", \"gridwidth\": 2, \"linecolor\": \"white\", \"showbackground\": true, \"ticks\": \"\", \"zerolinecolor\": \"white\"}}, \"shapedefaults\": {\"line\": {\"color\": \"#2a3f5f\"}}, \"ternary\": {\"aaxis\": {\"gridcolor\": \"white\", \"linecolor\": \"white\", \"ticks\": \"\"}, \"baxis\": {\"gridcolor\": \"white\", \"linecolor\": \"white\", \"ticks\": \"\"}, \"bgcolor\": \"#E5ECF6\", \"caxis\": {\"gridcolor\": \"white\", \"linecolor\": \"white\", \"ticks\": \"\"}}, \"title\": {\"x\": 0.05}, \"xaxis\": {\"automargin\": true, \"gridcolor\": \"white\", \"linecolor\": \"white\", \"ticks\": \"\", \"title\": {\"standoff\": 15}, \"zerolinecolor\": \"white\", \"zerolinewidth\": 2}, \"yaxis\": {\"automargin\": true, \"gridcolor\": \"white\", \"linecolor\": \"white\", \"ticks\": \"\", \"title\": {\"standoff\": 15}, \"zerolinecolor\": \"white\", \"zerolinewidth\": 2}}}, \"title\": {\"text\": \"\\u0417\\u0430\\u0432\\u0438\\u0441\\u0438\\u043c\\u043e\\u0441\\u0442\\u044c \\u043f\\u043e\\u0433\\u0440\\u0435\\u0448\\u043d\\u043e\\u0441\\u0442\\u0438 \\u043e\\u0442 \\u0434\\u043b\\u0438\\u043d\\u044b \\u0448\\u0430\\u0433\\u0430 \\u043f\\u043e \\u0432\\u0440\\u0435\\u043c\\u0435\\u043d\\u0438\"}, \"xaxis\": {\"title\": {\"text\": \"$h_x$\"}}, \"yaxis\": {\"title\": {\"text\": \"$\\\\epsilon$\"}}},                        {\"responsive\": true}                    ).then(function(){\n",
       "                            \n",
       "var gd = document.getElementById('e615207d-22ed-438e-9d22-be5aed67a769');\n",
       "var x = new MutationObserver(function (mutations, observer) {{\n",
       "        var display = window.getComputedStyle(gd).display;\n",
       "        if (!display || display === 'none') {{\n",
       "            console.log([gd, 'removed!']);\n",
       "            Plotly.purge(gd);\n",
       "            observer.disconnect();\n",
       "        }}\n",
       "}});\n",
       "\n",
       "// Listen for the removal of the full notebook cells\n",
       "var notebookContainer = gd.closest('#notebook-container');\n",
       "if (notebookContainer) {{\n",
       "    x.observe(notebookContainer, {childList: true});\n",
       "}}\n",
       "\n",
       "// Listen for the clearing of the current output cell\n",
       "var outputEl = gd.closest('.output');\n",
       "if (outputEl) {{\n",
       "    x.observe(outputEl, {childList: true});\n",
       "}}\n",
       "\n",
       "                        })                };                });            </script>        </div>"
      ]
     },
     "metadata": {},
     "output_type": "display_data"
    },
    {
     "data": {
      "application/vnd.plotly.v1+json": {
       "config": {
        "linkText": "Export to plot.ly",
        "plotlyServerURL": "https://plot.ly",
        "showLink": false
       },
       "data": [
        {
         "mode": "lines",
         "name": "Метод дробных шагов",
         "showlegend": true,
         "text": "(x, y)",
         "type": "scatter",
         "x": [
          -0.8011802632059132,
          -0.9347116558304358,
          -1.0524946914868192,
          -1.1578552071446455,
          -1.2531653869489703,
          -1.3401767639386002,
          -1.4202194716121366,
          -1.4943274437658585,
          -1.56332031525281,
          -1.6278588363903812,
          -1.688483458206816,
          -1.7456418720467646,
          -1.7997090933170403,
          -1.851002387704591,
          -1.8997925518740229,
          -1.9463125675089157,
          -1.9907643300797495,
          -2.0333239444985454,
          -2.0741459390188006,
          -2.1133666521720817,
          -2.1511069801549287,
          -2.187474624325804,
          -2.2225659441370738,
          -2.256467495812755,
          -2.2892573186357463,
          -2.3210060169503266,
          -2.3517776756170803,
          -2.381630638766761,
          -2.4106181756400136,
          -2.43878905260671,
          -2.4661880267948244,
          -2.4928562738769857,
          -2.5188317602802464,
          -2.5441495682645363,
          -2.5688421808549076,
          -2.592939732433968,
          -2.6164702298441624,
          -2.639459748068861,
          -2.6619326039209197,
          -2.6839115106396947,
          -2.7054177158606585,
          -2.7264711250584908,
          -2.7470904122612265
         ],
         "y": [
          -10.686615513385918,
          -10.870506826335161,
          -11.04068969177321,
          -11.200549120056715,
          -11.352601451472676,
          -11.497860641872249,
          -11.634953870659784,
          -11.768661251969185,
          -11.900103671563766,
          -12.030301701799736,
          -12.160226789841634,
          -12.290846672263855,
          -12.42317048080332,
          -12.558298951877926,
          -12.556209373826961,
          -12.485728801142189,
          -12.425200083899698,
          -12.372548845485332,
          -12.326258528079489,
          -12.28519040374789,
          -12.248470216164733,
          -12.215156354355933,
          -12.179865920446485,
          -12.14796722457762,
          -12.118977559252546,
          -12.09250391503397,
          -12.068222672067504,
          -12.045864653787687,
          -12.025203940709229,
          -12.006049372150475,
          -11.988238002772464,
          -11.971630002891368,
          -11.956104640105487,
          -11.941557081090007,
          -11.927895822727063,
          -11.915040611281942,
          -11.902920743714871,
          -11.891473671002272,
          -11.880643842002566,
          -11.870381740541376,
          -11.860643078684667,
          -11.851388117247874,
          -11.842581090495178
         ]
        },
        {
         "mode": "lines",
         "name": "Метод переменных направлений",
         "showlegend": true,
         "text": "(x, y)",
         "type": "scatter",
         "x": [
          -0.8011802632059132,
          -0.9347116558304358,
          -1.0524946914868192,
          -1.1578552071446455,
          -1.2531653869489703,
          -1.3401767639386002,
          -1.4202194716121366,
          -1.4943274437658585,
          -1.56332031525281,
          -1.6278588363903812,
          -1.688483458206816,
          -1.7456418720467646,
          -1.7997090933170403,
          -1.851002387704591,
          -1.8997925518740229,
          -1.9463125675089157,
          -1.9907643300797495,
          -2.0333239444985454,
          -2.0741459390188006,
          -2.1133666521720817,
          -2.1511069801549287,
          -2.187474624325804,
          -2.2225659441370738,
          -2.256467495812755,
          -2.2892573186357463,
          -2.3210060169503266,
          -2.3517776756170803,
          -2.381630638766761,
          -2.4106181756400136,
          -2.43878905260671,
          -2.4661880267948244,
          -2.4928562738769857,
          -2.5188317602802464,
          -2.5441495682645363,
          -2.5688421808549076,
          -2.592939732433968,
          -2.6164702298441624,
          -2.639459748068861,
          -2.6619326039209197,
          -2.6839115106396947,
          -2.7054177158606585,
          -2.7264711250584908,
          -2.7470904122612265
         ],
         "y": [
          -10.676782394182661,
          -10.808341407897267,
          -10.9245875969834,
          -11.028914040196465,
          -11.123579508253718,
          -11.210203886328692,
          -11.29001709011899,
          -11.363989256846077,
          -11.432902904578532,
          -11.497397791896084,
          -11.558002223945865,
          -11.615156437567622,
          -11.669230533357846,
          -11.720538332916684,
          -11.769348125677142,
          -11.81589104057746,
          -11.860367607626397,
          -11.902952939786438,
          -11.943800860398621,
          -11.983047220877543,
          -12.02081259232536,
          -12.05720446895276,
          -12.092319087128237,
          -12.126242938744129,
          -12.159054039049089,
          -12.190822995471512,
          -12.221613913811385,
          -12.251485170539214,
          -12.28049007417168,
          -12.308677434223307,
          -12.336092052716593,
          -12.36277515054484,
          -12.388764738704584,
          -12.41409594272527,
          -12.438801287206692,
          -12.46291094615756,
          -12.486452963962018,
          -12.509453451018839,
          -12.531936757441663,
          -12.553925627694715,
          -12.575441338644788,
          -12.596503823090597,
          -12.617131780573768
         ]
        }
       ],
       "layout": {
        "template": {
         "data": {
          "bar": [
           {
            "error_x": {
             "color": "#2a3f5f"
            },
            "error_y": {
             "color": "#2a3f5f"
            },
            "marker": {
             "line": {
              "color": "#E5ECF6",
              "width": 0.5
             }
            },
            "type": "bar"
           }
          ],
          "barpolar": [
           {
            "marker": {
             "line": {
              "color": "#E5ECF6",
              "width": 0.5
             }
            },
            "type": "barpolar"
           }
          ],
          "carpet": [
           {
            "aaxis": {
             "endlinecolor": "#2a3f5f",
             "gridcolor": "white",
             "linecolor": "white",
             "minorgridcolor": "white",
             "startlinecolor": "#2a3f5f"
            },
            "baxis": {
             "endlinecolor": "#2a3f5f",
             "gridcolor": "white",
             "linecolor": "white",
             "minorgridcolor": "white",
             "startlinecolor": "#2a3f5f"
            },
            "type": "carpet"
           }
          ],
          "choropleth": [
           {
            "colorbar": {
             "outlinewidth": 0,
             "ticks": ""
            },
            "type": "choropleth"
           }
          ],
          "contour": [
           {
            "colorbar": {
             "outlinewidth": 0,
             "ticks": ""
            },
            "colorscale": [
             [
              0,
              "#0d0887"
             ],
             [
              0.1111111111111111,
              "#46039f"
             ],
             [
              0.2222222222222222,
              "#7201a8"
             ],
             [
              0.3333333333333333,
              "#9c179e"
             ],
             [
              0.4444444444444444,
              "#bd3786"
             ],
             [
              0.5555555555555556,
              "#d8576b"
             ],
             [
              0.6666666666666666,
              "#ed7953"
             ],
             [
              0.7777777777777778,
              "#fb9f3a"
             ],
             [
              0.8888888888888888,
              "#fdca26"
             ],
             [
              1,
              "#f0f921"
             ]
            ],
            "type": "contour"
           }
          ],
          "contourcarpet": [
           {
            "colorbar": {
             "outlinewidth": 0,
             "ticks": ""
            },
            "type": "contourcarpet"
           }
          ],
          "heatmap": [
           {
            "colorbar": {
             "outlinewidth": 0,
             "ticks": ""
            },
            "colorscale": [
             [
              0,
              "#0d0887"
             ],
             [
              0.1111111111111111,
              "#46039f"
             ],
             [
              0.2222222222222222,
              "#7201a8"
             ],
             [
              0.3333333333333333,
              "#9c179e"
             ],
             [
              0.4444444444444444,
              "#bd3786"
             ],
             [
              0.5555555555555556,
              "#d8576b"
             ],
             [
              0.6666666666666666,
              "#ed7953"
             ],
             [
              0.7777777777777778,
              "#fb9f3a"
             ],
             [
              0.8888888888888888,
              "#fdca26"
             ],
             [
              1,
              "#f0f921"
             ]
            ],
            "type": "heatmap"
           }
          ],
          "heatmapgl": [
           {
            "colorbar": {
             "outlinewidth": 0,
             "ticks": ""
            },
            "colorscale": [
             [
              0,
              "#0d0887"
             ],
             [
              0.1111111111111111,
              "#46039f"
             ],
             [
              0.2222222222222222,
              "#7201a8"
             ],
             [
              0.3333333333333333,
              "#9c179e"
             ],
             [
              0.4444444444444444,
              "#bd3786"
             ],
             [
              0.5555555555555556,
              "#d8576b"
             ],
             [
              0.6666666666666666,
              "#ed7953"
             ],
             [
              0.7777777777777778,
              "#fb9f3a"
             ],
             [
              0.8888888888888888,
              "#fdca26"
             ],
             [
              1,
              "#f0f921"
             ]
            ],
            "type": "heatmapgl"
           }
          ],
          "histogram": [
           {
            "marker": {
             "colorbar": {
              "outlinewidth": 0,
              "ticks": ""
             }
            },
            "type": "histogram"
           }
          ],
          "histogram2d": [
           {
            "colorbar": {
             "outlinewidth": 0,
             "ticks": ""
            },
            "colorscale": [
             [
              0,
              "#0d0887"
             ],
             [
              0.1111111111111111,
              "#46039f"
             ],
             [
              0.2222222222222222,
              "#7201a8"
             ],
             [
              0.3333333333333333,
              "#9c179e"
             ],
             [
              0.4444444444444444,
              "#bd3786"
             ],
             [
              0.5555555555555556,
              "#d8576b"
             ],
             [
              0.6666666666666666,
              "#ed7953"
             ],
             [
              0.7777777777777778,
              "#fb9f3a"
             ],
             [
              0.8888888888888888,
              "#fdca26"
             ],
             [
              1,
              "#f0f921"
             ]
            ],
            "type": "histogram2d"
           }
          ],
          "histogram2dcontour": [
           {
            "colorbar": {
             "outlinewidth": 0,
             "ticks": ""
            },
            "colorscale": [
             [
              0,
              "#0d0887"
             ],
             [
              0.1111111111111111,
              "#46039f"
             ],
             [
              0.2222222222222222,
              "#7201a8"
             ],
             [
              0.3333333333333333,
              "#9c179e"
             ],
             [
              0.4444444444444444,
              "#bd3786"
             ],
             [
              0.5555555555555556,
              "#d8576b"
             ],
             [
              0.6666666666666666,
              "#ed7953"
             ],
             [
              0.7777777777777778,
              "#fb9f3a"
             ],
             [
              0.8888888888888888,
              "#fdca26"
             ],
             [
              1,
              "#f0f921"
             ]
            ],
            "type": "histogram2dcontour"
           }
          ],
          "mesh3d": [
           {
            "colorbar": {
             "outlinewidth": 0,
             "ticks": ""
            },
            "type": "mesh3d"
           }
          ],
          "parcoords": [
           {
            "line": {
             "colorbar": {
              "outlinewidth": 0,
              "ticks": ""
             }
            },
            "type": "parcoords"
           }
          ],
          "pie": [
           {
            "automargin": true,
            "type": "pie"
           }
          ],
          "scatter": [
           {
            "marker": {
             "colorbar": {
              "outlinewidth": 0,
              "ticks": ""
             }
            },
            "type": "scatter"
           }
          ],
          "scatter3d": [
           {
            "line": {
             "colorbar": {
              "outlinewidth": 0,
              "ticks": ""
             }
            },
            "marker": {
             "colorbar": {
              "outlinewidth": 0,
              "ticks": ""
             }
            },
            "type": "scatter3d"
           }
          ],
          "scattercarpet": [
           {
            "marker": {
             "colorbar": {
              "outlinewidth": 0,
              "ticks": ""
             }
            },
            "type": "scattercarpet"
           }
          ],
          "scattergeo": [
           {
            "marker": {
             "colorbar": {
              "outlinewidth": 0,
              "ticks": ""
             }
            },
            "type": "scattergeo"
           }
          ],
          "scattergl": [
           {
            "marker": {
             "colorbar": {
              "outlinewidth": 0,
              "ticks": ""
             }
            },
            "type": "scattergl"
           }
          ],
          "scattermapbox": [
           {
            "marker": {
             "colorbar": {
              "outlinewidth": 0,
              "ticks": ""
             }
            },
            "type": "scattermapbox"
           }
          ],
          "scatterpolar": [
           {
            "marker": {
             "colorbar": {
              "outlinewidth": 0,
              "ticks": ""
             }
            },
            "type": "scatterpolar"
           }
          ],
          "scatterpolargl": [
           {
            "marker": {
             "colorbar": {
              "outlinewidth": 0,
              "ticks": ""
             }
            },
            "type": "scatterpolargl"
           }
          ],
          "scatterternary": [
           {
            "marker": {
             "colorbar": {
              "outlinewidth": 0,
              "ticks": ""
             }
            },
            "type": "scatterternary"
           }
          ],
          "surface": [
           {
            "colorbar": {
             "outlinewidth": 0,
             "ticks": ""
            },
            "colorscale": [
             [
              0,
              "#0d0887"
             ],
             [
              0.1111111111111111,
              "#46039f"
             ],
             [
              0.2222222222222222,
              "#7201a8"
             ],
             [
              0.3333333333333333,
              "#9c179e"
             ],
             [
              0.4444444444444444,
              "#bd3786"
             ],
             [
              0.5555555555555556,
              "#d8576b"
             ],
             [
              0.6666666666666666,
              "#ed7953"
             ],
             [
              0.7777777777777778,
              "#fb9f3a"
             ],
             [
              0.8888888888888888,
              "#fdca26"
             ],
             [
              1,
              "#f0f921"
             ]
            ],
            "type": "surface"
           }
          ],
          "table": [
           {
            "cells": {
             "fill": {
              "color": "#EBF0F8"
             },
             "line": {
              "color": "white"
             }
            },
            "header": {
             "fill": {
              "color": "#C8D4E3"
             },
             "line": {
              "color": "white"
             }
            },
            "type": "table"
           }
          ]
         },
         "layout": {
          "annotationdefaults": {
           "arrowcolor": "#2a3f5f",
           "arrowhead": 0,
           "arrowwidth": 1
          },
          "autotypenumbers": "strict",
          "coloraxis": {
           "colorbar": {
            "outlinewidth": 0,
            "ticks": ""
           }
          },
          "colorscale": {
           "diverging": [
            [
             0,
             "#8e0152"
            ],
            [
             0.1,
             "#c51b7d"
            ],
            [
             0.2,
             "#de77ae"
            ],
            [
             0.3,
             "#f1b6da"
            ],
            [
             0.4,
             "#fde0ef"
            ],
            [
             0.5,
             "#f7f7f7"
            ],
            [
             0.6,
             "#e6f5d0"
            ],
            [
             0.7,
             "#b8e186"
            ],
            [
             0.8,
             "#7fbc41"
            ],
            [
             0.9,
             "#4d9221"
            ],
            [
             1,
             "#276419"
            ]
           ],
           "sequential": [
            [
             0,
             "#0d0887"
            ],
            [
             0.1111111111111111,
             "#46039f"
            ],
            [
             0.2222222222222222,
             "#7201a8"
            ],
            [
             0.3333333333333333,
             "#9c179e"
            ],
            [
             0.4444444444444444,
             "#bd3786"
            ],
            [
             0.5555555555555556,
             "#d8576b"
            ],
            [
             0.6666666666666666,
             "#ed7953"
            ],
            [
             0.7777777777777778,
             "#fb9f3a"
            ],
            [
             0.8888888888888888,
             "#fdca26"
            ],
            [
             1,
             "#f0f921"
            ]
           ],
           "sequentialminus": [
            [
             0,
             "#0d0887"
            ],
            [
             0.1111111111111111,
             "#46039f"
            ],
            [
             0.2222222222222222,
             "#7201a8"
            ],
            [
             0.3333333333333333,
             "#9c179e"
            ],
            [
             0.4444444444444444,
             "#bd3786"
            ],
            [
             0.5555555555555556,
             "#d8576b"
            ],
            [
             0.6666666666666666,
             "#ed7953"
            ],
            [
             0.7777777777777778,
             "#fb9f3a"
            ],
            [
             0.8888888888888888,
             "#fdca26"
            ],
            [
             1,
             "#f0f921"
            ]
           ]
          },
          "colorway": [
           "#636efa",
           "#EF553B",
           "#00cc96",
           "#ab63fa",
           "#FFA15A",
           "#19d3f3",
           "#FF6692",
           "#B6E880",
           "#FF97FF",
           "#FECB52"
          ],
          "font": {
           "color": "#2a3f5f"
          },
          "geo": {
           "bgcolor": "white",
           "lakecolor": "white",
           "landcolor": "#E5ECF6",
           "showlakes": true,
           "showland": true,
           "subunitcolor": "white"
          },
          "hoverlabel": {
           "align": "left"
          },
          "hovermode": "closest",
          "mapbox": {
           "style": "light"
          },
          "paper_bgcolor": "white",
          "plot_bgcolor": "#E5ECF6",
          "polar": {
           "angularaxis": {
            "gridcolor": "white",
            "linecolor": "white",
            "ticks": ""
           },
           "bgcolor": "#E5ECF6",
           "radialaxis": {
            "gridcolor": "white",
            "linecolor": "white",
            "ticks": ""
           }
          },
          "scene": {
           "xaxis": {
            "backgroundcolor": "#E5ECF6",
            "gridcolor": "white",
            "gridwidth": 2,
            "linecolor": "white",
            "showbackground": true,
            "ticks": "",
            "zerolinecolor": "white"
           },
           "yaxis": {
            "backgroundcolor": "#E5ECF6",
            "gridcolor": "white",
            "gridwidth": 2,
            "linecolor": "white",
            "showbackground": true,
            "ticks": "",
            "zerolinecolor": "white"
           },
           "zaxis": {
            "backgroundcolor": "#E5ECF6",
            "gridcolor": "white",
            "gridwidth": 2,
            "linecolor": "white",
            "showbackground": true,
            "ticks": "",
            "zerolinecolor": "white"
           }
          },
          "shapedefaults": {
           "line": {
            "color": "#2a3f5f"
           }
          },
          "ternary": {
           "aaxis": {
            "gridcolor": "white",
            "linecolor": "white",
            "ticks": ""
           },
           "baxis": {
            "gridcolor": "white",
            "linecolor": "white",
            "ticks": ""
           },
           "bgcolor": "#E5ECF6",
           "caxis": {
            "gridcolor": "white",
            "linecolor": "white",
            "ticks": ""
           }
          },
          "title": {
           "x": 0.05
          },
          "xaxis": {
           "automargin": true,
           "gridcolor": "white",
           "linecolor": "white",
           "ticks": "",
           "title": {
            "standoff": 15
           },
           "zerolinecolor": "white",
           "zerolinewidth": 2
          },
          "yaxis": {
           "automargin": true,
           "gridcolor": "white",
           "linecolor": "white",
           "ticks": "",
           "title": {
            "standoff": 15
           },
           "zerolinecolor": "white",
           "zerolinewidth": 2
          }
         }
        },
        "title": {
         "text": "Зависимость погрешности от длины шага по времени"
        },
        "xaxis": {
         "title": {
          "text": "$\\log{h_x}$"
         }
        },
        "yaxis": {
         "title": {
          "text": "$\\log{\\epsilon}$"
         }
        }
       }
      },
      "text/html": [
       "<div>                            <div id=\"b22c17e2-718e-450e-ba55-f10355aef9b4\" class=\"plotly-graph-div\" style=\"height:525px; width:100%;\"></div>            <script type=\"text/javascript\">                require([\"plotly\"], function(Plotly) {                    window.PLOTLYENV=window.PLOTLYENV || {};                                    if (document.getElementById(\"b22c17e2-718e-450e-ba55-f10355aef9b4\")) {                    Plotly.newPlot(                        \"b22c17e2-718e-450e-ba55-f10355aef9b4\",                        [{\"mode\": \"lines\", \"name\": \"\\u041c\\u0435\\u0442\\u043e\\u0434 \\u0434\\u0440\\u043e\\u0431\\u043d\\u044b\\u0445 \\u0448\\u0430\\u0433\\u043e\\u0432\", \"showlegend\": true, \"text\": \"(x, y)\", \"type\": \"scatter\", \"x\": [-0.8011802632059132, -0.9347116558304358, -1.0524946914868192, -1.1578552071446455, -1.2531653869489703, -1.3401767639386002, -1.4202194716121366, -1.4943274437658585, -1.56332031525281, -1.6278588363903812, -1.688483458206816, -1.7456418720467646, -1.7997090933170403, -1.851002387704591, -1.8997925518740229, -1.9463125675089157, -1.9907643300797495, -2.0333239444985454, -2.0741459390188006, -2.1133666521720817, -2.1511069801549287, -2.187474624325804, -2.2225659441370738, -2.256467495812755, -2.2892573186357463, -2.3210060169503266, -2.3517776756170803, -2.381630638766761, -2.4106181756400136, -2.43878905260671, -2.4661880267948244, -2.4928562738769857, -2.5188317602802464, -2.5441495682645363, -2.5688421808549076, -2.592939732433968, -2.6164702298441624, -2.639459748068861, -2.6619326039209197, -2.6839115106396947, -2.7054177158606585, -2.7264711250584908, -2.7470904122612265], \"y\": [-10.686615513385918, -10.870506826335161, -11.04068969177321, -11.200549120056715, -11.352601451472676, -11.497860641872249, -11.634953870659784, -11.768661251969185, -11.900103671563766, -12.030301701799736, -12.160226789841634, -12.290846672263855, -12.42317048080332, -12.558298951877926, -12.556209373826961, -12.485728801142189, -12.425200083899698, -12.372548845485332, -12.326258528079489, -12.28519040374789, -12.248470216164733, -12.215156354355933, -12.179865920446485, -12.14796722457762, -12.118977559252546, -12.09250391503397, -12.068222672067504, -12.045864653787687, -12.025203940709229, -12.006049372150475, -11.988238002772464, -11.971630002891368, -11.956104640105487, -11.941557081090007, -11.927895822727063, -11.915040611281942, -11.902920743714871, -11.891473671002272, -11.880643842002566, -11.870381740541376, -11.860643078684667, -11.851388117247874, -11.842581090495178]}, {\"mode\": \"lines\", \"name\": \"\\u041c\\u0435\\u0442\\u043e\\u0434 \\u043f\\u0435\\u0440\\u0435\\u043c\\u0435\\u043d\\u043d\\u044b\\u0445 \\u043d\\u0430\\u043f\\u0440\\u0430\\u0432\\u043b\\u0435\\u043d\\u0438\\u0439\", \"showlegend\": true, \"text\": \"(x, y)\", \"type\": \"scatter\", \"x\": [-0.8011802632059132, -0.9347116558304358, -1.0524946914868192, -1.1578552071446455, -1.2531653869489703, -1.3401767639386002, -1.4202194716121366, -1.4943274437658585, -1.56332031525281, -1.6278588363903812, -1.688483458206816, -1.7456418720467646, -1.7997090933170403, -1.851002387704591, -1.8997925518740229, -1.9463125675089157, -1.9907643300797495, -2.0333239444985454, -2.0741459390188006, -2.1133666521720817, -2.1511069801549287, -2.187474624325804, -2.2225659441370738, -2.256467495812755, -2.2892573186357463, -2.3210060169503266, -2.3517776756170803, -2.381630638766761, -2.4106181756400136, -2.43878905260671, -2.4661880267948244, -2.4928562738769857, -2.5188317602802464, -2.5441495682645363, -2.5688421808549076, -2.592939732433968, -2.6164702298441624, -2.639459748068861, -2.6619326039209197, -2.6839115106396947, -2.7054177158606585, -2.7264711250584908, -2.7470904122612265], \"y\": [-10.676782394182661, -10.808341407897267, -10.9245875969834, -11.028914040196465, -11.123579508253718, -11.210203886328692, -11.29001709011899, -11.363989256846077, -11.432902904578532, -11.497397791896084, -11.558002223945865, -11.615156437567622, -11.669230533357846, -11.720538332916684, -11.769348125677142, -11.81589104057746, -11.860367607626397, -11.902952939786438, -11.943800860398621, -11.983047220877543, -12.02081259232536, -12.05720446895276, -12.092319087128237, -12.126242938744129, -12.159054039049089, -12.190822995471512, -12.221613913811385, -12.251485170539214, -12.28049007417168, -12.308677434223307, -12.336092052716593, -12.36277515054484, -12.388764738704584, -12.41409594272527, -12.438801287206692, -12.46291094615756, -12.486452963962018, -12.509453451018839, -12.531936757441663, -12.553925627694715, -12.575441338644788, -12.596503823090597, -12.617131780573768]}],                        {\"template\": {\"data\": {\"bar\": [{\"error_x\": {\"color\": \"#2a3f5f\"}, \"error_y\": {\"color\": \"#2a3f5f\"}, \"marker\": {\"line\": {\"color\": \"#E5ECF6\", \"width\": 0.5}}, \"type\": \"bar\"}], \"barpolar\": [{\"marker\": {\"line\": {\"color\": \"#E5ECF6\", \"width\": 0.5}}, \"type\": \"barpolar\"}], \"carpet\": [{\"aaxis\": {\"endlinecolor\": \"#2a3f5f\", \"gridcolor\": \"white\", \"linecolor\": \"white\", \"minorgridcolor\": \"white\", \"startlinecolor\": \"#2a3f5f\"}, \"baxis\": {\"endlinecolor\": \"#2a3f5f\", \"gridcolor\": \"white\", \"linecolor\": \"white\", \"minorgridcolor\": \"white\", \"startlinecolor\": \"#2a3f5f\"}, \"type\": \"carpet\"}], \"choropleth\": [{\"colorbar\": {\"outlinewidth\": 0, \"ticks\": \"\"}, \"type\": \"choropleth\"}], \"contour\": [{\"colorbar\": {\"outlinewidth\": 0, \"ticks\": \"\"}, \"colorscale\": [[0.0, \"#0d0887\"], [0.1111111111111111, \"#46039f\"], [0.2222222222222222, \"#7201a8\"], [0.3333333333333333, \"#9c179e\"], [0.4444444444444444, \"#bd3786\"], [0.5555555555555556, \"#d8576b\"], [0.6666666666666666, \"#ed7953\"], [0.7777777777777778, \"#fb9f3a\"], [0.8888888888888888, \"#fdca26\"], [1.0, \"#f0f921\"]], \"type\": \"contour\"}], \"contourcarpet\": [{\"colorbar\": {\"outlinewidth\": 0, \"ticks\": \"\"}, \"type\": \"contourcarpet\"}], \"heatmap\": [{\"colorbar\": {\"outlinewidth\": 0, \"ticks\": \"\"}, \"colorscale\": [[0.0, \"#0d0887\"], [0.1111111111111111, \"#46039f\"], [0.2222222222222222, \"#7201a8\"], [0.3333333333333333, \"#9c179e\"], [0.4444444444444444, \"#bd3786\"], [0.5555555555555556, \"#d8576b\"], [0.6666666666666666, \"#ed7953\"], [0.7777777777777778, \"#fb9f3a\"], [0.8888888888888888, \"#fdca26\"], [1.0, \"#f0f921\"]], \"type\": \"heatmap\"}], \"heatmapgl\": [{\"colorbar\": {\"outlinewidth\": 0, \"ticks\": \"\"}, \"colorscale\": [[0.0, \"#0d0887\"], [0.1111111111111111, \"#46039f\"], [0.2222222222222222, \"#7201a8\"], [0.3333333333333333, \"#9c179e\"], [0.4444444444444444, \"#bd3786\"], [0.5555555555555556, \"#d8576b\"], [0.6666666666666666, \"#ed7953\"], [0.7777777777777778, \"#fb9f3a\"], [0.8888888888888888, \"#fdca26\"], [1.0, \"#f0f921\"]], \"type\": \"heatmapgl\"}], \"histogram\": [{\"marker\": {\"colorbar\": {\"outlinewidth\": 0, \"ticks\": \"\"}}, \"type\": \"histogram\"}], \"histogram2d\": [{\"colorbar\": {\"outlinewidth\": 0, \"ticks\": \"\"}, \"colorscale\": [[0.0, \"#0d0887\"], [0.1111111111111111, \"#46039f\"], [0.2222222222222222, \"#7201a8\"], [0.3333333333333333, \"#9c179e\"], [0.4444444444444444, \"#bd3786\"], [0.5555555555555556, \"#d8576b\"], [0.6666666666666666, \"#ed7953\"], [0.7777777777777778, \"#fb9f3a\"], [0.8888888888888888, \"#fdca26\"], [1.0, \"#f0f921\"]], \"type\": \"histogram2d\"}], \"histogram2dcontour\": [{\"colorbar\": {\"outlinewidth\": 0, \"ticks\": \"\"}, \"colorscale\": [[0.0, \"#0d0887\"], [0.1111111111111111, \"#46039f\"], [0.2222222222222222, \"#7201a8\"], [0.3333333333333333, \"#9c179e\"], [0.4444444444444444, \"#bd3786\"], [0.5555555555555556, \"#d8576b\"], [0.6666666666666666, \"#ed7953\"], [0.7777777777777778, \"#fb9f3a\"], [0.8888888888888888, \"#fdca26\"], [1.0, \"#f0f921\"]], \"type\": \"histogram2dcontour\"}], \"mesh3d\": [{\"colorbar\": {\"outlinewidth\": 0, \"ticks\": \"\"}, \"type\": \"mesh3d\"}], \"parcoords\": [{\"line\": {\"colorbar\": {\"outlinewidth\": 0, \"ticks\": \"\"}}, \"type\": \"parcoords\"}], \"pie\": [{\"automargin\": true, \"type\": \"pie\"}], \"scatter\": [{\"marker\": {\"colorbar\": {\"outlinewidth\": 0, \"ticks\": \"\"}}, \"type\": \"scatter\"}], \"scatter3d\": [{\"line\": {\"colorbar\": {\"outlinewidth\": 0, \"ticks\": \"\"}}, \"marker\": {\"colorbar\": {\"outlinewidth\": 0, \"ticks\": \"\"}}, \"type\": \"scatter3d\"}], \"scattercarpet\": [{\"marker\": {\"colorbar\": {\"outlinewidth\": 0, \"ticks\": \"\"}}, \"type\": \"scattercarpet\"}], \"scattergeo\": [{\"marker\": {\"colorbar\": {\"outlinewidth\": 0, \"ticks\": \"\"}}, \"type\": \"scattergeo\"}], \"scattergl\": [{\"marker\": {\"colorbar\": {\"outlinewidth\": 0, \"ticks\": \"\"}}, \"type\": \"scattergl\"}], \"scattermapbox\": [{\"marker\": {\"colorbar\": {\"outlinewidth\": 0, \"ticks\": \"\"}}, \"type\": \"scattermapbox\"}], \"scatterpolar\": [{\"marker\": {\"colorbar\": {\"outlinewidth\": 0, \"ticks\": \"\"}}, \"type\": \"scatterpolar\"}], \"scatterpolargl\": [{\"marker\": {\"colorbar\": {\"outlinewidth\": 0, \"ticks\": \"\"}}, \"type\": \"scatterpolargl\"}], \"scatterternary\": [{\"marker\": {\"colorbar\": {\"outlinewidth\": 0, \"ticks\": \"\"}}, \"type\": \"scatterternary\"}], \"surface\": [{\"colorbar\": {\"outlinewidth\": 0, \"ticks\": \"\"}, \"colorscale\": [[0.0, \"#0d0887\"], [0.1111111111111111, \"#46039f\"], [0.2222222222222222, \"#7201a8\"], [0.3333333333333333, \"#9c179e\"], [0.4444444444444444, \"#bd3786\"], [0.5555555555555556, \"#d8576b\"], [0.6666666666666666, \"#ed7953\"], [0.7777777777777778, \"#fb9f3a\"], [0.8888888888888888, \"#fdca26\"], [1.0, \"#f0f921\"]], \"type\": \"surface\"}], \"table\": [{\"cells\": {\"fill\": {\"color\": \"#EBF0F8\"}, \"line\": {\"color\": \"white\"}}, \"header\": {\"fill\": {\"color\": \"#C8D4E3\"}, \"line\": {\"color\": \"white\"}}, \"type\": \"table\"}]}, \"layout\": {\"annotationdefaults\": {\"arrowcolor\": \"#2a3f5f\", \"arrowhead\": 0, \"arrowwidth\": 1}, \"autotypenumbers\": \"strict\", \"coloraxis\": {\"colorbar\": {\"outlinewidth\": 0, \"ticks\": \"\"}}, \"colorscale\": {\"diverging\": [[0, \"#8e0152\"], [0.1, \"#c51b7d\"], [0.2, \"#de77ae\"], [0.3, \"#f1b6da\"], [0.4, \"#fde0ef\"], [0.5, \"#f7f7f7\"], [0.6, \"#e6f5d0\"], [0.7, \"#b8e186\"], [0.8, \"#7fbc41\"], [0.9, \"#4d9221\"], [1, \"#276419\"]], \"sequential\": [[0.0, \"#0d0887\"], [0.1111111111111111, \"#46039f\"], [0.2222222222222222, \"#7201a8\"], [0.3333333333333333, \"#9c179e\"], [0.4444444444444444, \"#bd3786\"], [0.5555555555555556, \"#d8576b\"], [0.6666666666666666, \"#ed7953\"], [0.7777777777777778, \"#fb9f3a\"], [0.8888888888888888, \"#fdca26\"], [1.0, \"#f0f921\"]], \"sequentialminus\": [[0.0, \"#0d0887\"], [0.1111111111111111, \"#46039f\"], [0.2222222222222222, \"#7201a8\"], [0.3333333333333333, \"#9c179e\"], [0.4444444444444444, \"#bd3786\"], [0.5555555555555556, \"#d8576b\"], [0.6666666666666666, \"#ed7953\"], [0.7777777777777778, \"#fb9f3a\"], [0.8888888888888888, \"#fdca26\"], [1.0, \"#f0f921\"]]}, \"colorway\": [\"#636efa\", \"#EF553B\", \"#00cc96\", \"#ab63fa\", \"#FFA15A\", \"#19d3f3\", \"#FF6692\", \"#B6E880\", \"#FF97FF\", \"#FECB52\"], \"font\": {\"color\": \"#2a3f5f\"}, \"geo\": {\"bgcolor\": \"white\", \"lakecolor\": \"white\", \"landcolor\": \"#E5ECF6\", \"showlakes\": true, \"showland\": true, \"subunitcolor\": \"white\"}, \"hoverlabel\": {\"align\": \"left\"}, \"hovermode\": \"closest\", \"mapbox\": {\"style\": \"light\"}, \"paper_bgcolor\": \"white\", \"plot_bgcolor\": \"#E5ECF6\", \"polar\": {\"angularaxis\": {\"gridcolor\": \"white\", \"linecolor\": \"white\", \"ticks\": \"\"}, \"bgcolor\": \"#E5ECF6\", \"radialaxis\": {\"gridcolor\": \"white\", \"linecolor\": \"white\", \"ticks\": \"\"}}, \"scene\": {\"xaxis\": {\"backgroundcolor\": \"#E5ECF6\", \"gridcolor\": \"white\", \"gridwidth\": 2, \"linecolor\": \"white\", \"showbackground\": true, \"ticks\": \"\", \"zerolinecolor\": \"white\"}, \"yaxis\": {\"backgroundcolor\": \"#E5ECF6\", \"gridcolor\": \"white\", \"gridwidth\": 2, \"linecolor\": \"white\", \"showbackground\": true, \"ticks\": \"\", \"zerolinecolor\": \"white\"}, \"zaxis\": {\"backgroundcolor\": \"#E5ECF6\", \"gridcolor\": \"white\", \"gridwidth\": 2, \"linecolor\": \"white\", \"showbackground\": true, \"ticks\": \"\", \"zerolinecolor\": \"white\"}}, \"shapedefaults\": {\"line\": {\"color\": \"#2a3f5f\"}}, \"ternary\": {\"aaxis\": {\"gridcolor\": \"white\", \"linecolor\": \"white\", \"ticks\": \"\"}, \"baxis\": {\"gridcolor\": \"white\", \"linecolor\": \"white\", \"ticks\": \"\"}, \"bgcolor\": \"#E5ECF6\", \"caxis\": {\"gridcolor\": \"white\", \"linecolor\": \"white\", \"ticks\": \"\"}}, \"title\": {\"x\": 0.05}, \"xaxis\": {\"automargin\": true, \"gridcolor\": \"white\", \"linecolor\": \"white\", \"ticks\": \"\", \"title\": {\"standoff\": 15}, \"zerolinecolor\": \"white\", \"zerolinewidth\": 2}, \"yaxis\": {\"automargin\": true, \"gridcolor\": \"white\", \"linecolor\": \"white\", \"ticks\": \"\", \"title\": {\"standoff\": 15}, \"zerolinecolor\": \"white\", \"zerolinewidth\": 2}}}, \"title\": {\"text\": \"\\u0417\\u0430\\u0432\\u0438\\u0441\\u0438\\u043c\\u043e\\u0441\\u0442\\u044c \\u043f\\u043e\\u0433\\u0440\\u0435\\u0448\\u043d\\u043e\\u0441\\u0442\\u0438 \\u043e\\u0442 \\u0434\\u043b\\u0438\\u043d\\u044b \\u0448\\u0430\\u0433\\u0430 \\u043f\\u043e \\u0432\\u0440\\u0435\\u043c\\u0435\\u043d\\u0438\"}, \"xaxis\": {\"title\": {\"text\": \"$\\\\log{h_x}$\"}}, \"yaxis\": {\"title\": {\"text\": \"$\\\\log{\\\\epsilon}$\"}}},                        {\"responsive\": true}                    ).then(function(){\n",
       "                            \n",
       "var gd = document.getElementById('b22c17e2-718e-450e-ba55-f10355aef9b4');\n",
       "var x = new MutationObserver(function (mutations, observer) {{\n",
       "        var display = window.getComputedStyle(gd).display;\n",
       "        if (!display || display === 'none') {{\n",
       "            console.log([gd, 'removed!']);\n",
       "            Plotly.purge(gd);\n",
       "            observer.disconnect();\n",
       "        }}\n",
       "}});\n",
       "\n",
       "// Listen for the removal of the full notebook cells\n",
       "var notebookContainer = gd.closest('#notebook-container');\n",
       "if (notebookContainer) {{\n",
       "    x.observe(notebookContainer, {childList: true});\n",
       "}}\n",
       "\n",
       "// Listen for the clearing of the current output cell\n",
       "var outputEl = gd.closest('.output');\n",
       "if (outputEl) {{\n",
       "    x.observe(outputEl, {childList: true});\n",
       "}}\n",
       "\n",
       "                        })                };                });            </script>        </div>"
      ]
     },
     "metadata": {},
     "output_type": "display_data"
    }
   ],
   "source": [
    "trace1 = Scatter(\n",
    "    x = tau1,\n",
    "    y = e1,\n",
    "    line= dict(width=3),\n",
    "    name = 'Метод дробных шагов',\n",
    "    mode = 'lines',\n",
    "    text = ('(x, y)'),\n",
    "    showlegend = True\n",
    ")\n",
    "\n",
    "trace2 = Scatter(\n",
    "    x = tau2,\n",
    "    y = e2,\n",
    "    line= dict(width=3.7),\n",
    "    name = 'Метод переменных направлений',\n",
    "    mode = 'lines',\n",
    "    text = ('(x, y)'),\n",
    "    showlegend = True\n",
    ")\n",
    "\n",
    "data = [trace1, trace2]\n",
    "\n",
    "layout = Layout(\n",
    "    title = 'Зависимость погрешности от длины шага по времени',\n",
    "    xaxis = dict(title = '$h$'),\n",
    "    yaxis = dict(title = '$\\epsilon$')\n",
    ")\n",
    "\n",
    "fig = Figure(data = data, layout = layout)\n",
    "offline.iplot(fig)\n",
    "\n",
    "trace1 = Scatter(\n",
    "    x = list(map(math.log, tau1)),\n",
    "    y = list(map(math.log, e1)),\n",
    "    name = 'Метод дробных шагов',\n",
    "    mode = 'lines',\n",
    "    text = ('(x, y)'),\n",
    "    showlegend = True\n",
    ")\n",
    "\n",
    "trace2 = Scatter(\n",
    "    x = list(map(math.log, tau2)),\n",
    "    y = list(map(math.log, e2)),\n",
    "    name = 'Метод переменных направлений',\n",
    "    mode = 'lines',\n",
    "    text = ('(x, y)'),\n",
    "    showlegend = True\n",
    ")\n",
    "\n",
    "data = [trace1, trace2]\n",
    "\n",
    "layout = Layout(\n",
    "    title = 'Зависимость погрешности от длины шага по времени',\n",
    "    xaxis = dict(title = '$\\log{h}$'),\n",
    "    yaxis = dict(title = '$\\log{\\epsilon}$')\n",
    ")\n",
    "\n",
    "fig = Figure(data = data, layout = layout)\n",
    "offline.iplot(fig)"
   ]
  },
  {
   "cell_type": "markdown",
   "metadata": {},
   "source": [
    "#### Общая зависимость погрешности от сеточных параметров"
   ]
  },
  {
   "cell_type": "markdown",
   "metadata": {},
   "source": [
    "График зависимости погрешности от параметров шага по координате и времени:"
   ]
  },
  {
   "cell_type": "code",
   "execution_count": 25,
   "metadata": {},
   "outputs": [],
   "source": [
    "def FullError(X, Y, T, Z):\n",
    "    ans = 0.0\n",
    "    for k in range(len(T)):\n",
    "        for i in range(len(X)):\n",
    "            for j in range(len(X[i])):\n",
    "                ans = max(abs(u(X[i][j], Y[i][j], T[k]) - Z[k][i][j]), ans)\n",
    "    return (ans / len(T) / len(X) / len(X[0]))"
   ]
  },
  {
   "cell_type": "code",
   "execution_count": 26,
   "metadata": {},
   "outputs": [
    {
     "data": {
      "application/vnd.jupyter.widget-view+json": {
       "model_id": "11c25b8fabbe4c00b3ccaad2b3d557ef",
       "version_major": 2,
       "version_minor": 0
      },
      "text/plain": [
       "interactive(children=(IntSlider(value=4, description='Nx', max=120, min=4, step=2), IntSlider(value=4, descrip…"
      ]
     },
     "metadata": {},
     "output_type": "display_data"
    }
   ],
   "source": [
    "TimeList = [random.randint(0, 40 - 1) for i in range(4)]\n",
    "def plotDependenceError(Nx=4, Ny=4, K=40, Method=0):\n",
    "    NxFix = Nx\n",
    "    NyFix = Ny\n",
    "    if Method != 0:\n",
    "        method = True\n",
    "        stri = 'Погрешность метода переменных направлений'\n",
    "    else:\n",
    "        method = False\n",
    "        stri = 'Погрешность метода дробных шагов'\n",
    "    plt.figure(figsize=(6, 12))\n",
    "    for i in range(1, 4):\n",
    "        plt.subplot(5, 1, i)\n",
    "        Time = TimeList[i-1]#random.randint(0, K - 1)\n",
    "        schema = Schema(T=Time, order2nd=method)\n",
    "        h, eps = [], []\n",
    "        for j in range(10):\n",
    "            h.append([])\n",
    "            eps.append([])\n",
    "            X, Y, T, Z = schema(Nx, Ny, K)\n",
    "            Nx += 1\n",
    "            Ny += 1\n",
    "            h[-1].append(schema.hx)\n",
    "            eps[-1].append(Error(X, Y, T[Time], Z[Time]))\n",
    "        Nx = NxFix\n",
    "        Ny = NyFix\n",
    "        plt.plot(np.array(h), np.array(eps), label=\"const T = \" + str(round(T[Time])))\n",
    "        plt.xlabel('$h$')\n",
    "        plt.ylabel('$\\epsilon$')\n",
    "        plt.title(stri)\n",
    "        plt.legend()\n",
    "        plt.grid()\n",
    "        plt.show()\n",
    "interact(plotDependenceError, Nx=(4, 120, 2), Ny=(4,120, 2), K=(40, 160, 40), Method=(0,1))\n",
    "None"
   ]
  },
  {
   "cell_type": "code",
   "execution_count": 27,
   "metadata": {},
   "outputs": [
    {
     "name": "stderr",
     "output_type": "stream",
     "text": [
      "100%|██████████| 20/20 [00:39<00:00,  1.98s/it]\n"
     ]
    },
    {
     "data": {
      "image/png": "[encoded data removed]",
      "text/plain": [
       "<Figure size 1368x864 with 1 Axes>"
      ]
     },
     "metadata": {
      "needs_background": "light"
     },
     "output_type": "display_data"
    }
   ],
   "source": [
    "def PlotError():\n",
    "    schema = Schema(T = 5, order2nd=False)\n",
    "    h = []\n",
    "    tau = []\n",
    "    eps = []\n",
    "    for i in tqdm(range(20)):\n",
    "        h.append([])\n",
    "        tau.append([])\n",
    "        eps.append([])\n",
    "        for j in range(40):\n",
    "            N = i + 5\n",
    "            K = j + 40\n",
    "            X, Y, T, Z = schema(N, N, K)\n",
    "            h[-1].append(schema.hx)\n",
    "            tau[-1].append(schema.tau)\n",
    "            eps[-1].append(FullError(X, Y, T, Z))\n",
    "\n",
    "    fig = plt.figure(num=1, figsize=(19, 12), clear=True)\n",
    "    ax = fig.add_subplot(1, 1, 1, projection='3d')\n",
    "    ax.plot_surface(np.array(h), np.array(tau), np.array(eps))\n",
    "    ax.set(xlabel='$h_x$', ylabel='$t$', zlabel='$\\epsilon$', title='Погрешность метода дробных шагов')\n",
    "    fig.tight_layout()\n",
    "\n",
    "PlotError()"
   ]
  }
 ],
 "metadata": {
  "kernelspec": {
   "display_name": "Python 3",
   "language": "python",
   "name": "python3"
  },
  "language_info": {
   "codemirror_mode": {
    "name": "ipython",
    "version": 3
   },
   "file_extension": ".py",
   "mimetype": "text/x-python",
   "name": "python",
   "nbconvert_exporter": "python",
   "pygments_lexer": "ipython3",
   "version": "3.8.5"
  }
 },
 "nbformat": 4,
 "nbformat_minor": 4
}
