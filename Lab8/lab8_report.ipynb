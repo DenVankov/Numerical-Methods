{
 "cells": [
  {
   "cell_type": "code",
   "execution_count": 1,
   "metadata": {},
   "outputs": [],
   "source": [
    "from main import *\n",
    "import matplotlib.pyplot as plt\n",
    "from matplotlib import cm\n",
    "from mpl_toolkits.mplot3d import Axes3D"
   ]
  },
  {
   "cell_type": "markdown",
   "metadata": {},
   "source": [
    "# Data inputing"
   ]
  },
  {
   "cell_type": "markdown",
   "metadata": {},
   "source": [
    "Input equation type:\n",
    "1. Parallel Directions Method\n",
    "2. Fractional Steps Method"
   ]
  },
  {
   "cell_type": "code",
   "execution_count": 2,
   "metadata": {},
   "outputs": [
    {
     "name": "stdout",
     "output_type": "stream",
     "text": [
      "1\n",
      "Selected: parallelDirections\n"
     ]
    }
   ],
   "source": [
    "k = int(input())\n",
    "if k == 1:\n",
    "    equation_type = 'parallelDirections'\n",
    "else:\n",
    "    equation_type = 'fractionalSteps'\n",
    "print(f'Selected: {equation_type}')"
   ]
  },
  {
   "cell_type": "markdown",
   "metadata": {},
   "source": [
    "Input nx - number of x > 0 (recommended: 40)"
   ]
  },
  {
   "cell_type": "code",
   "execution_count": 3,
   "metadata": {},
   "outputs": [
    {
     "name": "stdout",
     "output_type": "stream",
     "text": [
      "40\n"
     ]
    }
   ],
   "source": [
    "nx = int(input())"
   ]
  },
  {
   "cell_type": "markdown",
   "metadata": {},
   "source": [
    "Input ny - number of y > 0 (recommended: 40)"
   ]
  },
  {
   "cell_type": "code",
   "execution_count": 4,
   "metadata": {},
   "outputs": [
    {
     "name": "stdout",
     "output_type": "stream",
     "text": [
      "40\n"
     ]
    }
   ],
   "source": [
    "ny = int(input())"
   ]
  },
  {
   "cell_type": "markdown",
   "metadata": {},
   "source": [
    "Input T - max t > 0 (recommended: 5)"
   ]
  },
  {
   "cell_type": "code",
   "execution_count": 5,
   "metadata": {},
   "outputs": [
    {
     "name": "stdout",
     "output_type": "stream",
     "text": [
      "5\n"
     ]
    }
   ],
   "source": [
    "T = int(input())"
   ]
  },
  {
   "cell_type": "markdown",
   "metadata": {},
   "source": [
    "Input K - number of t > 0 (recommended: 200)"
   ]
  },
  {
   "cell_type": "code",
   "execution_count": 6,
   "metadata": {},
   "outputs": [
    {
     "name": "stdout",
     "output_type": "stream",
     "text": [
      "200\n"
     ]
    }
   ],
   "source": [
    "K = int(input())"
   ]
  },
  {
   "cell_type": "markdown",
   "metadata": {},
   "source": [
    "Вариант 7:\n",
    "$$\n",
    "\\begin{align}\n",
    "\\frac {\\partial{u}} {\\partial{t}} = \\frac {\\partial^2{u}} {\\partial{x^2}} + \\frac {\\partial^2{u}} {\\partial{y^2}} -x \\cdot y \\cdot sin(t), \\\\\n",
    "u(0, y, t) = 0 \\\\\n",
    "u(1, y, t) = y \\cdot cos(t) \\\\\n",
    "u(x, 0, t) = 0 \\\\\n",
    "u(x, 1, t) = x \\cdot cos(t) \\\\\n",
    "u(x, y, 0) = x \\cdot y\n",
    "\\end{align}\n",
    "$$"
   ]
  },
  {
   "cell_type": "markdown",
   "metadata": {},
   "source": [
    "Аналитическое решение:\n",
    "\\begin{align}\n",
    "U(x, y, t) = x \\cdot y \\cdot cos(t)\n",
    "\\end{align}"
   ]
  },
  {
   "cell_type": "code",
   "execution_count": 8,
   "metadata": {},
   "outputs": [],
   "source": [
    "params = {\n",
    "    'a': 1,\n",
    "    'b': 1,\n",
    "    'c': 0,\n",
    "    'd': 0,\n",
    "    'lx': 1,\n",
    "    'ly': 1,\n",
    "    'f': lambda x, y, t: - x * y * np.sin(t),\n",
    "    'alpha1': 0,\n",
    "    'alpha2': 1,\n",
    "    'beta1': 0,\n",
    "    'beta2': 1,\n",
    "    'gamma1': 0,\n",
    "    'gamma2': 1,\n",
    "    'delta1': 0,\n",
    "    'delta2': 1,\n",
    "    'phi11': lambda y, t: 0,\n",
    "    'phi12': lambda y, t: y * np.cos(t),\n",
    "    'phi21': lambda x, t: 0,\n",
    "    'phi22': lambda x, t: x * np.cos(t),\n",
    "    'psi': lambda x, y: x * y,\n",
    "    'solution': lambda x, y, t: x * y * np.cos(t),\n",
    "}"
   ]
  },
  {
   "cell_type": "code",
   "execution_count": 9,
   "metadata": {},
   "outputs": [],
   "source": [
    "solver = ParabolicSolver(params, equation_type)"
   ]
  },
  {
   "cell_type": "code",
   "execution_count": 10,
   "metadata": {},
   "outputs": [],
   "source": [
    "solved = solver.solve(nx, ny, T, K)\n",
    "ans = {\n",
    "    'numerical': solved,\n",
    "    'analytic': solver.analyticSolve(nx, ny, T, K)\n",
    "}"
   ]
  },
  {
   "cell_type": "code",
   "execution_count": 40,
   "metadata": {},
   "outputs": [],
   "source": [
    "def draw_u_x(dict_, nx, ny, T, K, time, save_file=\"plot_u_x.png\"):\n",
    "    fig = plt.figure()\n",
    "    hx = 1 / nx\n",
    "    hy = 1 / ny\n",
    "    tau = T / K\n",
    "    \n",
    "    x = np.arange(0, 1 + hx, hx)\n",
    "    y = np.arange(0, 1 + hy, hy)\n",
    "    t = np.arange(0, T + tau, tau)\n",
    "    \n",
    "#     z1 = np.array(dict_['numerical'])\n",
    "#     z2 = np.array(dict_['analytic'])\n",
    "    \n",
    "    z1 = []\n",
    "    for i in range(len(x)):\n",
    "        z1.append(approximation(x, 10, time, dict_))\n",
    "    \n",
    "    z2 = solving(x, y[10], t[time])\n",
    "\n",
    "    plt.title('U from x')\n",
    "    plt.plot(x, z1[time], color='r', label='numerical')\n",
    "#     print(x)\n",
    "#     print(z1)\n",
    "    plt.plot(x, z2, color='b', label='analytic')\n",
    "    plt.legend(loc='best')\n",
    "    plt.ylabel('U')\n",
    "    plt.xlabel('x')\n",
    "    plt.savefig(save_file)\n",
    "    plt.show()\n",
    "    \n",
    "    err = []\n",
    "    print(f\"len={len(z1[time])}\\n{z1[time]}\")\n",
    "    print()\n",
    "    print(f\"len={len(z2)}\\n{z2}\")\n",
    "    for i in range(len(z1[time])):\n",
    "        err.append(compareError(z1[time], z2))\n",
    "    plt.title('Error from y')\n",
    "    plt.plot(y, err, color='b', label='err')\n",
    "    plt.legend(loc='best')\n",
    "    plt.ylabel('Err')\n",
    "    plt.xlabel('t')\n",
    "    plt.savefig('err.png')\n",
    "    plt.show()"
   ]
  },
  {
   "cell_type": "markdown",
   "metadata": {},
   "source": [
    "Time check"
   ]
  },
  {
   "cell_type": "code",
   "execution_count": 48,
   "metadata": {},
   "outputs": [
    {
     "name": "stdout",
     "output_type": "stream",
     "text": [
      "Select time from 0 to 39\n",
      "1\n"
     ]
    }
   ],
   "source": [
    "print(f'Select time from 0 to {nx - 1}')\n",
    "curr_time = int(input())"
   ]
  },
  {
   "cell_type": "code",
   "execution_count": 49,
   "metadata": {},
   "outputs": [
    {
     "data": {
      "image/png": "[encoded data removed]",
      "text/plain": [
       "<Figure size 432x288 with 1 Axes>"
      ]
     },
     "metadata": {
      "needs_background": "light"
     },
     "output_type": "display_data"
    },
    {
     "name": "stdout",
     "output_type": "stream",
     "text": [
      "len=41\n",
      "[0.0, 0.0, 0.0, 0.0, 0.0, 0.0, 0.0, 0.0, 0.0, 0.0, 0.0, 0.0, 0.0, 0.0, 0.0, 0.0, 0.0, 0.0, 0.0, 0.0, 0.0, 0.0, 0.0, 0.0, 0.0, 0.0, 0.0, 0.0, 0.0, 0.0, 0.0, 0.0, 0.0, 0.0, 0.0, 0.0, 0.0, 0.0, 0.0, 0.0, 0.0]\n",
      "\n",
      "len=41\n",
      "[0.0, 0.006248046976723142, 0.012496093953446284, 0.018744140930169427, 0.024992187906892567, 0.031240234883615707, 0.037488281860338854, 0.043736328837061994, 0.049984375813785134, 0.056232422790508274, 0.062480469767231414, 0.06872851674395455, 0.07497656372067771, 0.08122461069740083, 0.08747265767412399, 0.09372070465084711, 0.09996875162757027, 0.10621679860429341, 0.11246484558101655, 0.11871289255773969, 0.12496093953446283, 0.13120898651118598, 0.1374570334879091, 0.14370508046463226, 0.14995312744135542, 0.15620117441807854, 0.16244922139480167, 0.16869726837152482, 0.17494531534824798, 0.18119336232497113, 0.18744140930169423, 0.19368945627841738, 0.19993750325514054, 0.2061855502318637, 0.21243359720858682, 0.21868164418530994, 0.2249296911620331, 0.23117773813875625, 0.23742578511547938, 0.24367383209220253, 0.24992187906892566]\n"
     ]
    },
    {
     "data": {
      "image/png": "[encoded data removed]",
      "text/plain": [
       "<Figure size 432x288 with 1 Axes>"
      ]
     },
     "metadata": {
      "needs_background": "light"
     },
     "output_type": "display_data"
    }
   ],
   "source": [
    "draw_u_x(ans, nx, ny, T, K, curr_time)"
   ]
  }
 ],
 "metadata": {
  "kernelspec": {
   "display_name": "Python 3",
   "language": "python",
   "name": "python3"
  },
  "language_info": {
   "codemirror_mode": {
    "name": "ipython",
    "version": 3
   },
   "file_extension": ".py",
   "mimetype": "text/x-python",
   "name": "python",
   "nbconvert_exporter": "python",
   "pygments_lexer": "ipython3",
   "version": "3.8.5"
  }
 },
 "nbformat": 4,
 "nbformat_minor": 2
}
